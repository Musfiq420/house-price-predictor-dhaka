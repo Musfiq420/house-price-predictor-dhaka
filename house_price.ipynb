{
 "cells": [
  {
   "cell_type": "code",
   "execution_count": 2,
   "id": "137868c9",
   "metadata": {},
   "outputs": [
    {
     "data": {
      "application/vnd.microsoft.datawrangler.viewer.v0+json": {
       "columns": [
        {
         "name": "index",
         "rawType": "int64",
         "type": "integer"
        },
        {
         "name": "title",
         "rawType": "object",
         "type": "string"
        },
        {
         "name": "beds",
         "rawType": "object",
         "type": "string"
        },
        {
         "name": "bath",
         "rawType": "object",
         "type": "string"
        },
        {
         "name": "area",
         "rawType": "object",
         "type": "string"
        },
        {
         "name": "adress",
         "rawType": "object",
         "type": "string"
        },
        {
         "name": "type",
         "rawType": "object",
         "type": "string"
        },
        {
         "name": "purpose",
         "rawType": "object",
         "type": "string"
        },
        {
         "name": "flooPlan",
         "rawType": "object",
         "type": "unknown"
        },
        {
         "name": "url",
         "rawType": "object",
         "type": "string"
        },
        {
         "name": "lastUpdated",
         "rawType": "object",
         "type": "string"
        },
        {
         "name": "price",
         "rawType": "object",
         "type": "string"
        }
       ],
       "ref": "54adfae5-048f-4e6d-a057-527910fae0bb",
       "rows": [
        [
         "0",
         "Eminent Apartment Of 2200 Sq Ft Is Vacant For Rent In Bashundhara R-A.",
         "3 ",
         "4 ",
         "2,200 sqft",
         "Block A, Bashundhara R-A, Dhaka",
         "Apartment",
         "For Rent",
         "https://images-cdn.bproperty.com/thumbnails/1021948-240x180.webp",
         "https://www.bproperty.com/en/property/details-2082380.html",
         "August 13, 2022",
         "50 Thousand"
        ],
        [
         "1",
         "Apartment Ready To Rent In South Khulshi, Nearby South Khulshi Police Station",
         "3 ",
         "4 ",
         "1,400 sqft",
         "South Khulshi, Khulshi, Chattogram",
         "Apartment",
         "For Rent",
         "https://images-cdn.bproperty.com/thumbnails/44434-400x300.webp",
         "https://www.bproperty.com/en/property/details-1978917.html",
         "January 25, 2022",
         "30 Thousand"
        ],
        [
         "2",
         "Smartly priced 1950 SQ FT apartment, that you should check in Bashundhara R-A",
         "3 ",
         "4 ",
         "1,950 sqft",
         "Block F, Bashundhara R-A, Dhaka",
         "Apartment",
         "For Rent",
         "https://images-cdn.bproperty.com/thumbnails/116385-400x300.webp",
         "https://www.bproperty.com/en/property/details-5299675.html",
         "February 22, 2023",
         "30 Thousand"
        ],
        [
         "3",
         "2000 Sq Ft Residential Apartment Is Up For Rental Purpose In Sector 9, Uttara",
         "3 ",
         "3 ",
         "2,000 sqft",
         "Sector 9, Uttara, Dhaka",
         "Apartment",
         "For Rent",
         "https://images-cdn.bproperty.com/thumbnails/1419221-240x180.webp",
         "https://www.bproperty.com/en/property/details-3032662.html",
         "October 28, 2021",
         "35 Thousand"
        ],
        [
         "4",
         "Strongly Structured This 1650 Sq. ft Apartment Is Now Vacant For Rent In Block I , Bashundhara R-A",
         "3 ",
         "4 ",
         "1,650 sqft",
         "Block I, Bashundhara R-A, Dhaka",
         "Apartment",
         "For Rent",
         "https://images-cdn.bproperty.com/thumbnails/1062867-240x180.webp",
         "https://www.bproperty.com/en/property/details-3241309.html",
         "February 19, 2023",
         "25 Thousand"
        ],
        [
         "5",
         "A nice residential flat of 3400 SQ FT, for rent, can be found in Gulshan Avenue",
         "5 ",
         "5 ",
         "3,400 sqft",
         "Gulshan 1, Gulshan, Dhaka",
         "Apartment",
         "For Rent",
         "https://images-cdn.bproperty.com/thumbnails/1549645-240x180.webp",
         "https://www.bproperty.com/en/property/details-3859222.html",
         "February 14, 2023",
         "1.1 Lakh"
        ],
        [
         "6",
         "1600 Square Feet Apartment With Amazing Rooms Is For Rent In Uttara-6",
         "3 ",
         "3 ",
         "1,600 sqft",
         "Sector 6, Uttara, Dhaka",
         "Apartment",
         "For Rent",
         "https://images-cdn.bproperty.com/thumbnails/1544311-240x180.webp",
         "https://www.bproperty.com/en/property/details-4621765.html",
         "August 6, 2022",
         "35 Thousand"
        ],
        [
         "7",
         "Let Us Help You To Rent This 1250 Sq Ft Apartment Which Is Now Available In Bashundhara R-A",
         "3 ",
         "3 ",
         "1,250 sqft",
         "Block K, Bashundhara R-A, Dhaka",
         "Apartment",
         "For Rent",
         "https://images-cdn.bproperty.com/thumbnails/1563130-240x180.webp",
         "https://www.bproperty.com/en/property/details-5370542.html",
         "January 4, 2023",
         "23 Thousand"
        ],
        [
         "8",
         "An Extensive Apartment Of 2150 Sq Ft Is Vacant For Rent In Ranavola Avenue, Uttara",
         "3 ",
         "4 ",
         "2,150 sqft",
         "Sector 10, Uttara, Dhaka",
         "Apartment",
         "For Rent",
         "https://images-cdn.bproperty.com/thumbnails/1572723-240x180.webp",
         "https://www.bproperty.com/en/property/details-1941282.html",
         "June 28, 2022",
         "40 Thousand"
        ],
        [
         "9",
         "A well-constructed 1250 SQ FT apartment is ready to Rent in Bashundhara R-A",
         "3 ",
         "3 ",
         "1,250 sqft",
         "Block K, Bashundhara R-A, Dhaka",
         "Apartment",
         "For Rent",
         "https://images-cdn.bproperty.com/thumbnails/1568722-240x180.webp",
         "https://www.bproperty.com/en/property/details-5370544.html",
         "January 4, 2023",
         "23 Thousand"
        ],
        [
         "10",
         "Don’t Waste Your Valuable Time! You Can Take This 1250 Sq Ft Apartment For Rent In Bashundhara R-A",
         "3 ",
         "3 ",
         "1,250 sqft",
         "Block K, Bashundhara R-A, Dhaka",
         "Apartment",
         "For Rent",
         "https://images-cdn.bproperty.com/thumbnails/1558270-240x180.webp",
         "https://www.bproperty.com/en/property/details-5370546.html",
         "January 4, 2023",
         "23 Thousand"
        ],
        [
         "11",
         "In The Nice Location Of Bayazid, An Apartments Of 1580 Sq Ft Is Available For Rent",
         "3 ",
         "3 ",
         "1,580 sqft",
         "Bayazid, Chattogram",
         "Apartment",
         "For Rent",
         "https://images-cdn.bproperty.com/thumbnails/1240805-240x180.webp",
         "https://www.bproperty.com/en/property/details-4937223.html",
         "January 15, 2023",
         "20 Thousand"
        ],
        [
         "12",
         "Beautiful 3200 Sq Ft Apartment For Rent At Gulshan 1",
         "4 ",
         "4 ",
         "3,200 sqft",
         "Gulshan 1, Gulshan, Dhaka",
         "Apartment",
         "For Rent",
         "https://images-cdn.bproperty.com/thumbnails/1485988-240x180.webp",
         "https://www.bproperty.com/en/property/details-3071757.html",
         "June 26, 2022",
         "2.5 Lakh"
        ],
        [
         "13",
         "A well-defined residential apartment of 3000 SQ FT is available for rent in Gulshan",
         "3 ",
         "3 ",
         "3,000 sqft",
         "Gulshan 2, Gulshan, Dhaka",
         "Apartment",
         "For Rent",
         "https://images-cdn.bproperty.com/thumbnails/1479042-240x180.webp",
         "https://www.bproperty.com/en/property/details-3088379.html",
         "March 15, 2022",
         "1.2 Lakh"
        ],
        [
         "14",
         "Property for rent in Bashundhara R-A– 1250 SQ FT apartment",
         "3 ",
         "3 ",
         "1,250 sqft",
         "Block K, Bashundhara R-A, Dhaka",
         "Apartment",
         "For Rent",
         "https://images-cdn.bproperty.com/thumbnails/1557514-240x180.webp",
         "https://www.bproperty.com/en/property/details-5370551.html",
         "January 4, 2023",
         "21 Thousand"
        ],
        [
         "15",
         "In The Most Prime Location Of Uttara, An Apartment Of 1800 Sq Ft Is Available For Rent",
         "3 ",
         "4 ",
         "1,800 sqft",
         "Sector 12, Uttara, Dhaka",
         "Apartment",
         "For Rent",
         "https://images-cdn.bproperty.com/thumbnails/1445746-240x180.webp",
         "https://www.bproperty.com/en/property/details-3451081.html",
         "February 15, 2023",
         "60 Thousand"
        ],
        [
         "16",
         "This flat in Bashundhara R-A is up for rent with an area of 1250 sq. ft",
         "3 ",
         "3 ",
         "1,250 sqft",
         "Block K, Bashundhara R-A, Dhaka",
         "Apartment",
         "For Rent",
         "https://images-cdn.bproperty.com/thumbnails/1558077-240x180.webp",
         "https://www.bproperty.com/en/property/details-5370552.html",
         "January 4, 2023",
         "21 Thousand"
        ],
        [
         "17",
         "A Fine Flat Is Now For Rent Which Is In Bashundhara R-A Near Ebenzer International School",
         "3 ",
         "3 ",
         "2,000 sqft",
         "Block D, Bashundhara R-A, Dhaka",
         "Apartment",
         "For Rent",
         "https://images-cdn.bproperty.com/thumbnails/26649-240x180.webp",
         "https://www.bproperty.com/en/property/details-1972393.html",
         "August 7, 2022",
         "40 Thousand"
        ],
        [
         "18",
         "An Apartment Is Ready For Rent At Bashundhara R-A, Near Independent University",
         "3 ",
         "4 ",
         "1,750 sqft",
         "Block C, Bashundhara R-A, Dhaka",
         "Apartment",
         "For Rent",
         "https://images-cdn.bproperty.com/thumbnails/1116160-240x180.webp",
         "https://www.bproperty.com/en/property/details-1931033.html",
         "February 16, 2023",
         "30 Thousand"
        ],
        [
         "19",
         "Use Your Time Perfectly To Take This 1250 Sq Ft Flat For Rent In Bashundhara R-A",
         "3 ",
         "3 ",
         "1,250 sqft",
         "Block K, Bashundhara R-A, Dhaka",
         "Apartment",
         "For Rent",
         "https://images-cdn.bproperty.com/thumbnails/1563317-240x180.webp",
         "https://www.bproperty.com/en/property/details-5370543.html",
         "January 4, 2023",
         "23 Thousand"
        ],
        [
         "20",
         "Worthy 1250 SQ FT Nice home is ready to Rent at Bashundhara R-A",
         "3 ",
         "3 ",
         "1,250 sqft",
         "Block K, Bashundhara R-A, Dhaka",
         "Apartment",
         "For Rent",
         "https://images-cdn.bproperty.com/thumbnails/1558273-240x180.webp",
         "https://www.bproperty.com/en/property/details-5370547.html",
         "January 4, 2023",
         "23 Thousand"
        ],
        [
         "21",
         "Brand New Flat Covering An Area Of 1310 Sq Ft Is Ready For Rent In Khilgaon",
         "3 ",
         "3 ",
         "1,310 sqft",
         "Ward 23, Chowdhuripara, Khilgaon, Dhaka",
         "Apartment",
         "For Rent",
         "https://images-cdn.bproperty.com/thumbnails/914757-240x180.webp",
         "https://www.bproperty.com/en/property/details-2047959.html",
         "February 17, 2023",
         "28 Thousand"
        ],
        [
         "22",
         "Tastefully Designed This 1250 Sq Ft Apartment Is Now Vacant For Rent In Bashundhara R-a",
         "3 ",
         "3 ",
         "1,250 sqft",
         "Block K, Bashundhara R-A, Dhaka",
         "Apartment",
         "For Rent",
         "https://images-cdn.bproperty.com/thumbnails/1558065-240x180.webp",
         "https://www.bproperty.com/en/property/details-5370550.html",
         "January 4, 2023",
         "21 Thousand"
        ],
        [
         "23",
         "2200 sq. ft Flat For rent In Uttara Near NRB Commercial Bank",
         "3 ",
         "4 ",
         "2,200 sqft",
         "Sector 3, Uttara, Dhaka",
         "Apartment",
         "For Rent",
         "https://images-cdn.bproperty.com/thumbnails/44890-240x180.webp",
         "https://www.bproperty.com/en/property/details-1931882.html",
         "February 18, 2023",
         "60 Thousand"
        ],
        [
         "24",
         "Wonderful Flat Covering An Area Of 1700 Sq Ft Is Available For Rent In Banani",
         "3 ",
         "4 ",
         "1,700 sqft",
         "Banani, Dhaka",
         "Apartment",
         "For Rent",
         "https://images-cdn.bproperty.com/thumbnails/1013794-400x300.webp",
         "https://www.bproperty.com/en/property/details-5126870.html",
         "February 14, 2023",
         "75 Thousand"
        ],
        [
         "25",
         "In this serene neighborhood of Dhanmondi, a flat is up for rent which is 2750 SQ FT",
         "4 ",
         "4 ",
         "2,750 sqft",
         "Dhanmondi, Dhaka",
         "Apartment",
         "For Rent",
         "https://images-cdn.bproperty.com/thumbnails/810203-400x300.webp",
         "https://www.bproperty.com/en/property/details-4084279.html",
         "February 20, 2023",
         "1.2 Lakh"
        ],
        [
         "26",
         "We Have A Ready Flat For Rent In Dhanmondi Nearby Dhanmondi Ideal College.",
         "3 ",
         "2 ",
         "1,400 sqft",
         "Dhanmondi, Dhaka",
         "Apartment",
         "For Rent",
         "https://images-cdn.bproperty.com/thumbnails/1510050-240x180.webp",
         "https://www.bproperty.com/en/property/details-1959921.html",
         "February 19, 2023",
         "28 Thousand"
        ],
        [
         "27",
         "In Baridhara 2500 Sq Ft Flat Is Available For Rent Which Is Now Close To Baridhara Jame Masjid",
         "4 ",
         "4 ",
         "2,500 sqft",
         "Block J, Baridhara, Dhaka",
         "Apartment",
         "For Rent",
         "https://images-cdn.bproperty.com/thumbnails/1559594-240x180.webp",
         "https://www.bproperty.com/en/property/details-1801763.html",
         "February 20, 2023",
         "55 Thousand"
        ],
        [
         "28",
         "An Apartment Is Up For Rent In West Shewrapara, Near East West International School",
         "1 Bed",
         "1 Bath",
         "550 sqft",
         "West Shewrapara, Mirpur, Dhaka",
         "Apartment",
         "For Rent",
         "https://images-cdn.bproperty.com/thumbnails/1570593-400x300.webp",
         "https://www.bproperty.com/en/property/details-1983283.html",
         "March 6, 2020",
         "12 Thousand"
        ],
        [
         "29",
         "Affordable Flat Is Up For Rent In Rampura Nearby Hatir Jheel Lake",
         "3 ",
         "2 ",
         "1,050 sqft",
         "Block D, Mohanagar Housing, West Rampura, Rampura, Dhaka",
         "Apartment",
         "For Rent",
         "https://images-cdn.bproperty.com/thumbnails/786887-240x180.webp",
         "https://www.bproperty.com/en/property/details-1828790.html",
         "February 13, 2023",
         "21 Thousand"
        ],
        [
         "30",
         "1350 Sq Ft Flat For Rent In Khulshi Close To Khulshi Jame Masjid",
         "2 ",
         "4 ",
         "1,350 sqft",
         "Zakir Hossain Housing Society, South Khulshi, Khulshi, Chattogram",
         "Apartment",
         "For Rent",
         "https://images-cdn.bproperty.com/thumbnails/1422255-240x180.webp",
         "https://www.bproperty.com/en/property/details-1831055.html",
         "November 6, 2021",
         "30 Thousand"
        ],
        [
         "31",
         "Affordable and beautiful flat is up for rent in Bashundhara R-A which is 1250 SQ FT",
         "3 ",
         "3 ",
         "1,250 sqft",
         "Block K, Bashundhara R-A, Dhaka",
         "Apartment",
         "For Rent",
         "https://images-cdn.bproperty.com/thumbnails/1558298-240x180.webp",
         "https://www.bproperty.com/en/property/details-5370548.html",
         "January 4, 2023",
         "23 Thousand"
        ],
        [
         "32",
         "3590 Sq Ft Apartment Is Ready For Rent In Banani",
         "4 ",
         "5 ",
         "3,590 sqft",
         "Banani DOHS, Dhaka",
         "Apartment",
         "For Rent",
         "https://images-cdn.bproperty.com/thumbnails/1567630-400x300.webp",
         "https://www.bproperty.com/en/property/details-5055585.html",
         "February 13, 2023",
         "2 Lakh"
        ],
        [
         "33",
         "Property in Bashundhara R-A– 1250 SQ FT Flat for rent",
         "3 ",
         "3 ",
         "1,250 sqft",
         "Block K, Bashundhara R-A, Dhaka",
         "Apartment",
         "For Rent",
         "https://images-cdn.bproperty.com/thumbnails/1557368-240x180.webp",
         "https://www.bproperty.com/en/property/details-5370549.html",
         "January 4, 2023",
         "21 Thousand"
        ],
        [
         "34",
         "2200 Sq Ft Flat For Rent In Khulshi Near Khulshi Jame Masjid",
         "4 ",
         "5 ",
         "2,200 sqft",
         "Zakir Hossain Housing Society, South Khulshi, Khulshi, Chattogram",
         "Apartment",
         "For Rent",
         "https://images-cdn.bproperty.com/thumbnails/1479358-240x180.webp",
         "https://www.bproperty.com/en/property/details-1849110.html",
         "February 11, 2023",
         "1.1 Lakh"
        ],
        [
         "35",
         "In Bashundhara R-A, 1250 Square Feet Residential Apartment Is Up For Rent",
         "3 ",
         "3 ",
         "1,250 sqft",
         "Block J, Bashundhara R-A, Dhaka",
         "Apartment",
         "For Rent",
         "https://images-cdn.bproperty.com/thumbnails/977143-240x180.webp",
         "https://www.bproperty.com/en/property/details-2057397.html",
         "February 12, 2023",
         "20 Thousand"
        ],
        [
         "36",
         "For Rental Purpose This Nice Flat Is Now Available In Khilkhet Near Haji Bari Mosjid.",
         "1 Bed",
         "1 Bath",
         "400 sqft",
         "Khilkhet, Dhaka",
         "Apartment",
         "For Rent",
         "https://images-cdn.bproperty.com/thumbnails/1538533-400x300.webp",
         "https://www.bproperty.com/en/property/details-2010529.html",
         "February 22, 2023",
         "10 Thousand"
        ],
        [
         "37",
         "Check This Fine Looking Residence Of 1250 Sq Ft Offered For Rent At Dhaka Uddan, Mohammadpur",
         "3 ",
         "3 ",
         "1,250 sqft",
         "Block C, Dhaka Uddan, Mohammadpur, Dhaka",
         "Apartment",
         "For Rent",
         "https://images-cdn.bproperty.com/thumbnails/1035652-240x180.webp",
         "https://www.bproperty.com/en/property/details-4851836.html",
         "August 11, 2022",
         "18 Thousand"
        ],
        [
         "38",
         "Visit This Apartment For Rent Of 2400 Sq Ft In Gulshan",
         "3 ",
         "3 ",
         "2,400 sqft",
         "Gulshan 2, Gulshan, Dhaka",
         "Apartment",
         "For Rent",
         "https://images-cdn.bproperty.com/thumbnails/779564-400x300.webp",
         "https://www.bproperty.com/en/property/details-1869015.html",
         "February 12, 2023",
         "1.5 Lakh"
        ],
        [
         "39",
         "A Small 500 Sq Ft 1-bedroom Apartment For Rent In Mohammadi Housing Ltd.",
         "1 Bed",
         "1 Bath",
         "500 sqft",
         "Mohammadi Housing LTD., Mohammadpur, Dhaka",
         "Apartment",
         "For Rent",
         "https://images-cdn.bproperty.com/thumbnails/1570593-400x300.webp",
         "https://www.bproperty.com/en/property/details-1957286.html",
         "February 20, 2023",
         "10 Thousand"
        ],
        [
         "40",
         "In The Location Of Banani An Excellent Flat Of 1650 Sq Ft Is Waiting For Rent",
         "3 ",
         "3 ",
         "1,650 sqft",
         "Banani, Dhaka",
         "Apartment",
         "For Rent",
         "https://images-cdn.bproperty.com/thumbnails/1325036-240x180.webp",
         "https://www.bproperty.com/en/property/details-5274187.html",
         "February 10, 2023",
         "85 Thousand"
        ],
        [
         "41",
         "Grab This 1700 Sq Ft Apartment For Rent In Mirpur, Section-2",
         "4 ",
         "3 ",
         "1,700 sqft",
         "Block D, Section 2, Mirpur, Dhaka",
         "Apartment",
         "For Rent",
         "https://images-cdn.bproperty.com/thumbnails/1562154-400x300.webp",
         "https://www.bproperty.com/en/property/details-3035799.html",
         "February 22, 2023",
         "30 Thousand"
        ],
        [
         "42",
         "In The Fine Location Of Chatogram A 1600 Sq Ft Furnished Apartment Is All Set For Rent Near To Ab Bank Limited",
         "3 ",
         "3 ",
         "1,600 sqft",
         "South Khulshi, Khulshi, Chattogram",
         "Apartment",
         "For Rent",
         "https://images-cdn.bproperty.com/thumbnails/1322642-240x180.webp",
         "https://www.bproperty.com/en/property/details-1819257.html",
         "February 10, 2023",
         "70 Thousand"
        ],
        [
         "43",
         "Affordable And Beautiful Flat Is Up For Rent In West Rampura Which Is 2300 Sq Ft",
         "4 ",
         "4 ",
         "2,300 sqft",
         "Block D, Mohanagar Housing, West Rampura, Rampura, Dhaka",
         "Apartment",
         "For Rent",
         "https://images-cdn.bproperty.com/thumbnails/1573675-240x180.webp",
         "https://www.bproperty.com/en/property/details-5554033.html",
         "February 12, 2023",
         "43 Thousand"
        ],
        [
         "44",
         "Let Us Help You To Rent This 1250 Sq Ft Apartment Which Is Now Available In Bashundhara R-A",
         "3 ",
         "3 ",
         "1,250 sqft",
         "Block K, Bashundhara R-A, Dhaka",
         "Apartment",
         "For Rent",
         "https://images-cdn.bproperty.com/thumbnails/1568736-240x180.webp",
         "https://www.bproperty.com/en/property/details-5370545.html",
         "January 2, 2023",
         "21 Thousand"
        ],
        [
         "45",
         "Impressively Done, Large 4350 Sq Ft Rental Residential Duplex Is In The Center Of Uttara, Sector 13",
         "5 ",
         "6 ",
         "4,350 sqft",
         "Sector 13, Uttara, Dhaka",
         "Duplex",
         "For Rent",
         "https://images-cdn.bproperty.com/thumbnails/1496925-240x180.webp",
         "https://www.bproperty.com/en/property/details-3096458.html",
         "February 5, 2022",
         "1.1 Lakh"
        ],
        [
         "46",
         "Comfortable and well designed flat of 3200 SQ FT in Bashundhara R/A Block C for rent, near Mridha Bari Jame Mosjid",
         "4 ",
         "5 ",
         "3,200 sqft",
         "Block C, Bashundhara R-A, Dhaka",
         "Apartment",
         "For Rent",
         "https://images-cdn.bproperty.com/thumbnails/520548-400x300.webp",
         "https://www.bproperty.com/en/property/details-1772824.html",
         "February 12, 2023",
         "1 Lakh"
        ],
        [
         "47",
         "Luxurious And Furnished Apartment At Khulshi, For Rent Close To Khulshi Jame Masjid",
         "4 ",
         "5 ",
         "2,000 sqft",
         "Khulshi Hill R/A, North Khulshi, Khulshi, Chattogram",
         "Apartment",
         "For Rent",
         "https://images-cdn.bproperty.com/thumbnails/188409-240x180.webp",
         "https://www.bproperty.com/en/property/details-1981196.html",
         "January 23, 2022",
         "80 Thousand"
        ],
        [
         "48",
         "Nice Flat Can Be Found In Kalabagan For Rent, Near Bashir Uddin Jame Mosque.",
         "3 ",
         "4 ",
         "2,000 sqft",
         "Kalabagan, Dhaka",
         "Apartment",
         "For Rent",
         "https://images-cdn.bproperty.com/thumbnails/45850-240x180.webp",
         "https://www.bproperty.com/en/property/details-1911186.html",
         "February 14, 2023",
         "45 Thousand"
        ],
        [
         "49",
         "A Decent 1200 Sq Ft Flat Is Now To Rent In Mohammadpur",
         "3 ",
         "3 ",
         "1,200 sqft",
         "Mohammadia Housing Society, Mohammadpur, Dhaka",
         "Apartment",
         "For Rent",
         "https://images-cdn.bproperty.com/thumbnails/1567039-400x300.webp",
         "https://www.bproperty.com/en/property/details-4648875.html",
         "February 19, 2023",
         "25 Thousand"
        ]
       ],
       "shape": {
        "columns": 11,
        "rows": 7557
       }
      },
      "text/html": [
       "<div>\n",
       "<style scoped>\n",
       "    .dataframe tbody tr th:only-of-type {\n",
       "        vertical-align: middle;\n",
       "    }\n",
       "\n",
       "    .dataframe tbody tr th {\n",
       "        vertical-align: top;\n",
       "    }\n",
       "\n",
       "    .dataframe thead th {\n",
       "        text-align: right;\n",
       "    }\n",
       "</style>\n",
       "<table border=\"1\" class=\"dataframe\">\n",
       "  <thead>\n",
       "    <tr style=\"text-align: right;\">\n",
       "      <th></th>\n",
       "      <th>title</th>\n",
       "      <th>beds</th>\n",
       "      <th>bath</th>\n",
       "      <th>area</th>\n",
       "      <th>adress</th>\n",
       "      <th>type</th>\n",
       "      <th>purpose</th>\n",
       "      <th>flooPlan</th>\n",
       "      <th>url</th>\n",
       "      <th>lastUpdated</th>\n",
       "      <th>price</th>\n",
       "    </tr>\n",
       "  </thead>\n",
       "  <tbody>\n",
       "    <tr>\n",
       "      <th>0</th>\n",
       "      <td>Eminent Apartment Of 2200 Sq Ft Is Vacant For ...</td>\n",
       "      <td>3</td>\n",
       "      <td>4</td>\n",
       "      <td>2,200 sqft</td>\n",
       "      <td>Block A, Bashundhara R-A, Dhaka</td>\n",
       "      <td>Apartment</td>\n",
       "      <td>For Rent</td>\n",
       "      <td>https://images-cdn.bproperty.com/thumbnails/10...</td>\n",
       "      <td>https://www.bproperty.com/en/property/details-...</td>\n",
       "      <td>August 13, 2022</td>\n",
       "      <td>50 Thousand</td>\n",
       "    </tr>\n",
       "    <tr>\n",
       "      <th>1</th>\n",
       "      <td>Apartment Ready To Rent In South Khulshi, Near...</td>\n",
       "      <td>3</td>\n",
       "      <td>4</td>\n",
       "      <td>1,400 sqft</td>\n",
       "      <td>South Khulshi, Khulshi, Chattogram</td>\n",
       "      <td>Apartment</td>\n",
       "      <td>For Rent</td>\n",
       "      <td>https://images-cdn.bproperty.com/thumbnails/44...</td>\n",
       "      <td>https://www.bproperty.com/en/property/details-...</td>\n",
       "      <td>January 25, 2022</td>\n",
       "      <td>30 Thousand</td>\n",
       "    </tr>\n",
       "    <tr>\n",
       "      <th>2</th>\n",
       "      <td>Smartly priced 1950 SQ FT apartment, that you ...</td>\n",
       "      <td>3</td>\n",
       "      <td>4</td>\n",
       "      <td>1,950 sqft</td>\n",
       "      <td>Block F, Bashundhara R-A, Dhaka</td>\n",
       "      <td>Apartment</td>\n",
       "      <td>For Rent</td>\n",
       "      <td>https://images-cdn.bproperty.com/thumbnails/11...</td>\n",
       "      <td>https://www.bproperty.com/en/property/details-...</td>\n",
       "      <td>February 22, 2023</td>\n",
       "      <td>30 Thousand</td>\n",
       "    </tr>\n",
       "    <tr>\n",
       "      <th>3</th>\n",
       "      <td>2000 Sq Ft Residential Apartment Is Up For Ren...</td>\n",
       "      <td>3</td>\n",
       "      <td>3</td>\n",
       "      <td>2,000 sqft</td>\n",
       "      <td>Sector 9, Uttara, Dhaka</td>\n",
       "      <td>Apartment</td>\n",
       "      <td>For Rent</td>\n",
       "      <td>https://images-cdn.bproperty.com/thumbnails/14...</td>\n",
       "      <td>https://www.bproperty.com/en/property/details-...</td>\n",
       "      <td>October 28, 2021</td>\n",
       "      <td>35 Thousand</td>\n",
       "    </tr>\n",
       "    <tr>\n",
       "      <th>4</th>\n",
       "      <td>Strongly Structured This 1650 Sq. ft Apartment...</td>\n",
       "      <td>3</td>\n",
       "      <td>4</td>\n",
       "      <td>1,650 sqft</td>\n",
       "      <td>Block I, Bashundhara R-A, Dhaka</td>\n",
       "      <td>Apartment</td>\n",
       "      <td>For Rent</td>\n",
       "      <td>https://images-cdn.bproperty.com/thumbnails/10...</td>\n",
       "      <td>https://www.bproperty.com/en/property/details-...</td>\n",
       "      <td>February 19, 2023</td>\n",
       "      <td>25 Thousand</td>\n",
       "    </tr>\n",
       "    <tr>\n",
       "      <th>...</th>\n",
       "      <td>...</td>\n",
       "      <td>...</td>\n",
       "      <td>...</td>\n",
       "      <td>...</td>\n",
       "      <td>...</td>\n",
       "      <td>...</td>\n",
       "      <td>...</td>\n",
       "      <td>...</td>\n",
       "      <td>...</td>\n",
       "      <td>...</td>\n",
       "      <td>...</td>\n",
       "    </tr>\n",
       "    <tr>\n",
       "      <th>7552</th>\n",
       "      <td>Picture Yourself, Residing In This Well Constr...</td>\n",
       "      <td>4</td>\n",
       "      <td>4</td>\n",
       "      <td>3,600 sqft</td>\n",
       "      <td>Sector 3, Uttara, Dhaka</td>\n",
       "      <td>Duplex</td>\n",
       "      <td>For Rent</td>\n",
       "      <td>https://images-cdn.bproperty.com/thumbnails/15...</td>\n",
       "      <td>https://www.bproperty.com/en/property/details-...</td>\n",
       "      <td>February 7, 2023</td>\n",
       "      <td>80 Thousand</td>\n",
       "    </tr>\n",
       "    <tr>\n",
       "      <th>7553</th>\n",
       "      <td>Flat For Rent In Uttara Sector 13 Near Lubana ...</td>\n",
       "      <td>3</td>\n",
       "      <td>2</td>\n",
       "      <td>900 sqft</td>\n",
       "      <td>Sector 13, Uttara, Dhaka</td>\n",
       "      <td>Apartment</td>\n",
       "      <td>For Rent</td>\n",
       "      <td>https://images-cdn.bproperty.com/thumbnails/15...</td>\n",
       "      <td>https://www.bproperty.com/en/property/details-...</td>\n",
       "      <td>February 9, 2022</td>\n",
       "      <td>19 Thousand</td>\n",
       "    </tr>\n",
       "    <tr>\n",
       "      <th>7554</th>\n",
       "      <td>1000 SQ FT flat for rent in Uttara Sector 13 n...</td>\n",
       "      <td>2</td>\n",
       "      <td>2</td>\n",
       "      <td>1,000 sqft</td>\n",
       "      <td>Sector 13, Uttara, Dhaka</td>\n",
       "      <td>Apartment</td>\n",
       "      <td>For Rent</td>\n",
       "      <td>https://images-cdn.bproperty.com/thumbnails/12...</td>\n",
       "      <td>https://www.bproperty.com/en/property/details-...</td>\n",
       "      <td>February 14, 2022</td>\n",
       "      <td>22 Thousand</td>\n",
       "    </tr>\n",
       "    <tr>\n",
       "      <th>7555</th>\n",
       "      <td>Well Planned Apartment For Rent In Gulshan 1 N...</td>\n",
       "      <td>3</td>\n",
       "      <td>4</td>\n",
       "      <td>3,600 sqft</td>\n",
       "      <td>Gulshan 1, Gulshan, Dhaka</td>\n",
       "      <td>Apartment</td>\n",
       "      <td>For Rent</td>\n",
       "      <td>https://images-cdn.bproperty.com/thumbnails/30...</td>\n",
       "      <td>https://www.bproperty.com/en/property/details-...</td>\n",
       "      <td>February 7, 2023</td>\n",
       "      <td>1.75 Lakh</td>\n",
       "    </tr>\n",
       "    <tr>\n",
       "      <th>7556</th>\n",
       "      <td>An Apartment Is Ready For Rent At Baridhara DO...</td>\n",
       "      <td>4</td>\n",
       "      <td>4</td>\n",
       "      <td>2,600 sqft</td>\n",
       "      <td>Baridhara DOHS, Dhaka</td>\n",
       "      <td>Apartment</td>\n",
       "      <td>For Rent</td>\n",
       "      <td>https://images-cdn.bproperty.com/thumbnails/15...</td>\n",
       "      <td>https://www.bproperty.com/en/property/details-...</td>\n",
       "      <td>November 22, 2021</td>\n",
       "      <td>90 Thousand</td>\n",
       "    </tr>\n",
       "  </tbody>\n",
       "</table>\n",
       "<p>7557 rows × 11 columns</p>\n",
       "</div>"
      ],
      "text/plain": [
       "                                                  title beds bath        area  \\\n",
       "0     Eminent Apartment Of 2200 Sq Ft Is Vacant For ...   3    4   2,200 sqft   \n",
       "1     Apartment Ready To Rent In South Khulshi, Near...   3    4   1,400 sqft   \n",
       "2     Smartly priced 1950 SQ FT apartment, that you ...   3    4   1,950 sqft   \n",
       "3     2000 Sq Ft Residential Apartment Is Up For Ren...   3    3   2,000 sqft   \n",
       "4     Strongly Structured This 1650 Sq. ft Apartment...   3    4   1,650 sqft   \n",
       "...                                                 ...  ...  ...         ...   \n",
       "7552  Picture Yourself, Residing In This Well Constr...   4    4   3,600 sqft   \n",
       "7553  Flat For Rent In Uttara Sector 13 Near Lubana ...   3    2     900 sqft   \n",
       "7554  1000 SQ FT flat for rent in Uttara Sector 13 n...   2    2   1,000 sqft   \n",
       "7555  Well Planned Apartment For Rent In Gulshan 1 N...   3    4   3,600 sqft   \n",
       "7556  An Apartment Is Ready For Rent At Baridhara DO...   4    4   2,600 sqft   \n",
       "\n",
       "                                  adress       type   purpose  \\\n",
       "0        Block A, Bashundhara R-A, Dhaka  Apartment  For Rent   \n",
       "1     South Khulshi, Khulshi, Chattogram  Apartment  For Rent   \n",
       "2        Block F, Bashundhara R-A, Dhaka  Apartment  For Rent   \n",
       "3                Sector 9, Uttara, Dhaka  Apartment  For Rent   \n",
       "4        Block I, Bashundhara R-A, Dhaka  Apartment  For Rent   \n",
       "...                                  ...        ...       ...   \n",
       "7552             Sector 3, Uttara, Dhaka     Duplex  For Rent   \n",
       "7553            Sector 13, Uttara, Dhaka  Apartment  For Rent   \n",
       "7554            Sector 13, Uttara, Dhaka  Apartment  For Rent   \n",
       "7555           Gulshan 1, Gulshan, Dhaka  Apartment  For Rent   \n",
       "7556               Baridhara DOHS, Dhaka  Apartment  For Rent   \n",
       "\n",
       "                                               flooPlan  \\\n",
       "0     https://images-cdn.bproperty.com/thumbnails/10...   \n",
       "1     https://images-cdn.bproperty.com/thumbnails/44...   \n",
       "2     https://images-cdn.bproperty.com/thumbnails/11...   \n",
       "3     https://images-cdn.bproperty.com/thumbnails/14...   \n",
       "4     https://images-cdn.bproperty.com/thumbnails/10...   \n",
       "...                                                 ...   \n",
       "7552  https://images-cdn.bproperty.com/thumbnails/15...   \n",
       "7553  https://images-cdn.bproperty.com/thumbnails/15...   \n",
       "7554  https://images-cdn.bproperty.com/thumbnails/12...   \n",
       "7555  https://images-cdn.bproperty.com/thumbnails/30...   \n",
       "7556  https://images-cdn.bproperty.com/thumbnails/15...   \n",
       "\n",
       "                                                    url        lastUpdated  \\\n",
       "0     https://www.bproperty.com/en/property/details-...    August 13, 2022   \n",
       "1     https://www.bproperty.com/en/property/details-...   January 25, 2022   \n",
       "2     https://www.bproperty.com/en/property/details-...  February 22, 2023   \n",
       "3     https://www.bproperty.com/en/property/details-...   October 28, 2021   \n",
       "4     https://www.bproperty.com/en/property/details-...  February 19, 2023   \n",
       "...                                                 ...                ...   \n",
       "7552  https://www.bproperty.com/en/property/details-...   February 7, 2023   \n",
       "7553  https://www.bproperty.com/en/property/details-...   February 9, 2022   \n",
       "7554  https://www.bproperty.com/en/property/details-...  February 14, 2022   \n",
       "7555  https://www.bproperty.com/en/property/details-...   February 7, 2023   \n",
       "7556  https://www.bproperty.com/en/property/details-...  November 22, 2021   \n",
       "\n",
       "            price  \n",
       "0     50 Thousand  \n",
       "1     30 Thousand  \n",
       "2     30 Thousand  \n",
       "3     35 Thousand  \n",
       "4     25 Thousand  \n",
       "...           ...  \n",
       "7552  80 Thousand  \n",
       "7553  19 Thousand  \n",
       "7554  22 Thousand  \n",
       "7555    1.75 Lakh  \n",
       "7556  90 Thousand  \n",
       "\n",
       "[7557 rows x 11 columns]"
      ]
     },
     "execution_count": 2,
     "metadata": {},
     "output_type": "execute_result"
    }
   ],
   "source": [
    "import pandas as pd\n",
    "\n",
    "df_property = pd.read_csv('property_listing_data_in_Bangladesh.csv')\n",
    "df_property"
   ]
  },
  {
   "cell_type": "code",
   "execution_count": 3,
   "id": "7cb2c8cd",
   "metadata": {},
   "outputs": [
    {
     "data": {
      "application/vnd.microsoft.datawrangler.viewer.v0+json": {
       "columns": [
        {
         "name": "index",
         "rawType": "object",
         "type": "string"
        },
        {
         "name": "0",
         "rawType": "int64",
         "type": "integer"
        }
       ],
       "ref": "8518a007-46a1-4107-98eb-f15448eda507",
       "rows": [
        [
         "title",
         "0"
        ],
        [
         "beds",
         "0"
        ],
        [
         "bath",
         "0"
        ],
        [
         "area",
         "0"
        ],
        [
         "adress",
         "0"
        ],
        [
         "type",
         "0"
        ],
        [
         "purpose",
         "0"
        ],
        [
         "flooPlan",
         "1"
        ],
        [
         "url",
         "0"
        ],
        [
         "lastUpdated",
         "0"
        ],
        [
         "price",
         "0"
        ]
       ],
       "shape": {
        "columns": 1,
        "rows": 11
       }
      },
      "text/plain": [
       "title          0\n",
       "beds           0\n",
       "bath           0\n",
       "area           0\n",
       "adress         0\n",
       "type           0\n",
       "purpose        0\n",
       "flooPlan       1\n",
       "url            0\n",
       "lastUpdated    0\n",
       "price          0\n",
       "dtype: int64"
      ]
     },
     "execution_count": 3,
     "metadata": {},
     "output_type": "execute_result"
    }
   ],
   "source": [
    "df_property.isnull().sum()\n"
   ]
  },
  {
   "cell_type": "code",
   "execution_count": 4,
   "id": "3fc195da",
   "metadata": {},
   "outputs": [
    {
     "data": {
      "application/vnd.microsoft.datawrangler.viewer.v0+json": {
       "columns": [
        {
         "name": "index",
         "rawType": "int64",
         "type": "integer"
        },
        {
         "name": "area",
         "rawType": "int32",
         "type": "integer"
        }
       ],
       "ref": "ac19a38d-5a43-4a15-b2fc-1420d832adc9",
       "rows": [
        [
         "0",
         "2200"
        ],
        [
         "1",
         "1400"
        ],
        [
         "2",
         "1950"
        ],
        [
         "3",
         "2000"
        ],
        [
         "4",
         "1650"
        ],
        [
         "5",
         "3400"
        ],
        [
         "6",
         "1600"
        ],
        [
         "7",
         "1250"
        ],
        [
         "8",
         "2150"
        ],
        [
         "9",
         "1250"
        ],
        [
         "10",
         "1250"
        ],
        [
         "11",
         "1580"
        ],
        [
         "12",
         "3200"
        ],
        [
         "13",
         "3000"
        ],
        [
         "14",
         "1250"
        ],
        [
         "15",
         "1800"
        ],
        [
         "16",
         "1250"
        ],
        [
         "17",
         "2000"
        ],
        [
         "18",
         "1750"
        ],
        [
         "19",
         "1250"
        ],
        [
         "20",
         "1250"
        ],
        [
         "21",
         "1310"
        ],
        [
         "22",
         "1250"
        ],
        [
         "23",
         "2200"
        ],
        [
         "24",
         "1700"
        ],
        [
         "25",
         "2750"
        ],
        [
         "26",
         "1400"
        ],
        [
         "27",
         "2500"
        ],
        [
         "28",
         "550"
        ],
        [
         "29",
         "1050"
        ],
        [
         "30",
         "1350"
        ],
        [
         "31",
         "1250"
        ],
        [
         "32",
         "3590"
        ],
        [
         "33",
         "1250"
        ],
        [
         "34",
         "2200"
        ],
        [
         "35",
         "1250"
        ],
        [
         "36",
         "400"
        ],
        [
         "37",
         "1250"
        ],
        [
         "38",
         "2400"
        ],
        [
         "39",
         "500"
        ],
        [
         "40",
         "1650"
        ],
        [
         "41",
         "1700"
        ],
        [
         "42",
         "1600"
        ],
        [
         "43",
         "2300"
        ],
        [
         "44",
         "1250"
        ],
        [
         "45",
         "4350"
        ],
        [
         "46",
         "3200"
        ],
        [
         "47",
         "2000"
        ],
        [
         "48",
         "2000"
        ],
        [
         "49",
         "1200"
        ]
       ],
       "shape": {
        "columns": 1,
        "rows": 7557
       }
      },
      "text/plain": [
       "0       2200\n",
       "1       1400\n",
       "2       1950\n",
       "3       2000\n",
       "4       1650\n",
       "        ... \n",
       "7552    3600\n",
       "7553     900\n",
       "7554    1000\n",
       "7555    3600\n",
       "7556    2600\n",
       "Name: area, Length: 7557, dtype: int32"
      ]
     },
     "execution_count": 4,
     "metadata": {},
     "output_type": "execute_result"
    }
   ],
   "source": [
    "df_property['area'] = df_property['area'].str.replace('sqft', '').str.replace(',', '').astype(int)\n",
    "df_property['area']"
   ]
  },
  {
   "cell_type": "code",
   "execution_count": 5,
   "id": "29644722",
   "metadata": {},
   "outputs": [
    {
     "data": {
      "application/vnd.microsoft.datawrangler.viewer.v0+json": {
       "columns": [
        {
         "name": "index",
         "rawType": "int64",
         "type": "integer"
        },
        {
         "name": "price",
         "rawType": "int64",
         "type": "integer"
        }
       ],
       "ref": "b95395fc-5bf3-4813-9c3b-a665635482e3",
       "rows": [
        [
         "0",
         "50000"
        ],
        [
         "1",
         "30000"
        ],
        [
         "2",
         "30000"
        ],
        [
         "3",
         "35000"
        ],
        [
         "4",
         "25000"
        ],
        [
         "5",
         "110000"
        ],
        [
         "6",
         "35000"
        ],
        [
         "7",
         "23000"
        ],
        [
         "8",
         "40000"
        ],
        [
         "9",
         "23000"
        ],
        [
         "10",
         "23000"
        ],
        [
         "11",
         "20000"
        ],
        [
         "12",
         "250000"
        ],
        [
         "13",
         "120000"
        ],
        [
         "14",
         "21000"
        ],
        [
         "15",
         "60000"
        ],
        [
         "16",
         "21000"
        ],
        [
         "17",
         "40000"
        ],
        [
         "18",
         "30000"
        ],
        [
         "19",
         "23000"
        ],
        [
         "20",
         "23000"
        ],
        [
         "21",
         "28000"
        ],
        [
         "22",
         "21000"
        ],
        [
         "23",
         "60000"
        ],
        [
         "24",
         "75000"
        ],
        [
         "25",
         "120000"
        ],
        [
         "26",
         "28000"
        ],
        [
         "27",
         "55000"
        ],
        [
         "28",
         "12000"
        ],
        [
         "29",
         "21000"
        ],
        [
         "30",
         "30000"
        ],
        [
         "31",
         "23000"
        ],
        [
         "32",
         "200000"
        ],
        [
         "33",
         "21000"
        ],
        [
         "34",
         "110000"
        ],
        [
         "35",
         "20000"
        ],
        [
         "36",
         "10000"
        ],
        [
         "37",
         "18000"
        ],
        [
         "38",
         "150000"
        ],
        [
         "39",
         "10000"
        ],
        [
         "40",
         "85000"
        ],
        [
         "41",
         "30000"
        ],
        [
         "42",
         "70000"
        ],
        [
         "43",
         "43000"
        ],
        [
         "44",
         "21000"
        ],
        [
         "45",
         "110000"
        ],
        [
         "46",
         "100000"
        ],
        [
         "47",
         "80000"
        ],
        [
         "48",
         "45000"
        ],
        [
         "49",
         "25000"
        ]
       ],
       "shape": {
        "columns": 1,
        "rows": 7557
       }
      },
      "text/plain": [
       "0        50000\n",
       "1        30000\n",
       "2        30000\n",
       "3        35000\n",
       "4        25000\n",
       "         ...  \n",
       "7552     80000\n",
       "7553     19000\n",
       "7554     22000\n",
       "7555    175000\n",
       "7556     90000\n",
       "Name: price, Length: 7557, dtype: int64"
      ]
     },
     "execution_count": 5,
     "metadata": {},
     "output_type": "execute_result"
    }
   ],
   "source": [
    "df_property['price'] = df_property['price'].apply(lambda x: int(float(x.split(' ')[0])*(1000 if 'Thousand' in x else 100000 if 'Lakh' else 1)))\n",
    "df_property['price']"
   ]
  },
  {
   "cell_type": "code",
   "execution_count": 6,
   "id": "b9607e9d",
   "metadata": {},
   "outputs": [
    {
     "data": {
      "application/vnd.microsoft.datawrangler.viewer.v0+json": {
       "columns": [
        {
         "name": "index",
         "rawType": "int64",
         "type": "integer"
        },
        {
         "name": "beds",
         "rawType": "int32",
         "type": "integer"
        }
       ],
       "ref": "edc93d8e-11d4-4521-b33a-db9bc06e1907",
       "rows": [
        [
         "0",
         "3"
        ],
        [
         "1",
         "3"
        ],
        [
         "2",
         "3"
        ],
        [
         "3",
         "3"
        ],
        [
         "4",
         "3"
        ],
        [
         "5",
         "5"
        ],
        [
         "6",
         "3"
        ],
        [
         "7",
         "3"
        ],
        [
         "8",
         "3"
        ],
        [
         "9",
         "3"
        ],
        [
         "10",
         "3"
        ],
        [
         "11",
         "3"
        ],
        [
         "12",
         "4"
        ],
        [
         "13",
         "3"
        ],
        [
         "14",
         "3"
        ],
        [
         "15",
         "3"
        ],
        [
         "16",
         "3"
        ],
        [
         "17",
         "3"
        ],
        [
         "18",
         "3"
        ],
        [
         "19",
         "3"
        ],
        [
         "20",
         "3"
        ],
        [
         "21",
         "3"
        ],
        [
         "22",
         "3"
        ],
        [
         "23",
         "3"
        ],
        [
         "24",
         "3"
        ],
        [
         "25",
         "4"
        ],
        [
         "26",
         "3"
        ],
        [
         "27",
         "4"
        ],
        [
         "28",
         "1"
        ],
        [
         "29",
         "3"
        ],
        [
         "30",
         "2"
        ],
        [
         "31",
         "3"
        ],
        [
         "32",
         "4"
        ],
        [
         "33",
         "3"
        ],
        [
         "34",
         "4"
        ],
        [
         "35",
         "3"
        ],
        [
         "36",
         "1"
        ],
        [
         "37",
         "3"
        ],
        [
         "38",
         "3"
        ],
        [
         "39",
         "1"
        ],
        [
         "40",
         "3"
        ],
        [
         "41",
         "4"
        ],
        [
         "42",
         "3"
        ],
        [
         "43",
         "4"
        ],
        [
         "44",
         "3"
        ],
        [
         "45",
         "5"
        ],
        [
         "46",
         "4"
        ],
        [
         "47",
         "4"
        ],
        [
         "48",
         "3"
        ],
        [
         "49",
         "3"
        ]
       ],
       "shape": {
        "columns": 1,
        "rows": 7557
       }
      },
      "text/plain": [
       "0       3\n",
       "1       3\n",
       "2       3\n",
       "3       3\n",
       "4       3\n",
       "       ..\n",
       "7552    4\n",
       "7553    3\n",
       "7554    2\n",
       "7555    3\n",
       "7556    4\n",
       "Name: beds, Length: 7557, dtype: int32"
      ]
     },
     "execution_count": 6,
     "metadata": {},
     "output_type": "execute_result"
    }
   ],
   "source": [
    "df_property['beds'] = df_property['beds'].str.replace('Bed', '').astype(int)\n",
    "df_property['beds']"
   ]
  },
  {
   "cell_type": "code",
   "execution_count": 7,
   "id": "a73e4758",
   "metadata": {},
   "outputs": [
    {
     "data": {
      "application/vnd.microsoft.datawrangler.viewer.v0+json": {
       "columns": [
        {
         "name": "index",
         "rawType": "int64",
         "type": "integer"
        },
        {
         "name": "bath",
         "rawType": "int32",
         "type": "integer"
        }
       ],
       "ref": "f8fea0f8-d86b-4c8c-bd58-0f9ba3d7cb04",
       "rows": [
        [
         "0",
         "4"
        ],
        [
         "1",
         "4"
        ],
        [
         "2",
         "4"
        ],
        [
         "3",
         "3"
        ],
        [
         "4",
         "4"
        ],
        [
         "5",
         "5"
        ],
        [
         "6",
         "3"
        ],
        [
         "7",
         "3"
        ],
        [
         "8",
         "4"
        ],
        [
         "9",
         "3"
        ],
        [
         "10",
         "3"
        ],
        [
         "11",
         "3"
        ],
        [
         "12",
         "4"
        ],
        [
         "13",
         "3"
        ],
        [
         "14",
         "3"
        ],
        [
         "15",
         "4"
        ],
        [
         "16",
         "3"
        ],
        [
         "17",
         "3"
        ],
        [
         "18",
         "4"
        ],
        [
         "19",
         "3"
        ],
        [
         "20",
         "3"
        ],
        [
         "21",
         "3"
        ],
        [
         "22",
         "3"
        ],
        [
         "23",
         "4"
        ],
        [
         "24",
         "4"
        ],
        [
         "25",
         "4"
        ],
        [
         "26",
         "2"
        ],
        [
         "27",
         "4"
        ],
        [
         "28",
         "1"
        ],
        [
         "29",
         "2"
        ],
        [
         "30",
         "4"
        ],
        [
         "31",
         "3"
        ],
        [
         "32",
         "5"
        ],
        [
         "33",
         "3"
        ],
        [
         "34",
         "5"
        ],
        [
         "35",
         "3"
        ],
        [
         "36",
         "1"
        ],
        [
         "37",
         "3"
        ],
        [
         "38",
         "3"
        ],
        [
         "39",
         "1"
        ],
        [
         "40",
         "3"
        ],
        [
         "41",
         "3"
        ],
        [
         "42",
         "3"
        ],
        [
         "43",
         "4"
        ],
        [
         "44",
         "3"
        ],
        [
         "45",
         "6"
        ],
        [
         "46",
         "5"
        ],
        [
         "47",
         "5"
        ],
        [
         "48",
         "4"
        ],
        [
         "49",
         "3"
        ]
       ],
       "shape": {
        "columns": 1,
        "rows": 7557
       }
      },
      "text/plain": [
       "0       4\n",
       "1       4\n",
       "2       4\n",
       "3       3\n",
       "4       4\n",
       "       ..\n",
       "7552    4\n",
       "7553    2\n",
       "7554    2\n",
       "7555    4\n",
       "7556    4\n",
       "Name: bath, Length: 7557, dtype: int32"
      ]
     },
     "execution_count": 7,
     "metadata": {},
     "output_type": "execute_result"
    }
   ],
   "source": [
    "df_property['bath'] = df_property['bath'].str.replace('Bath', '').astype(int)\n",
    "df_property['bath']"
   ]
  },
  {
   "cell_type": "code",
   "execution_count": 8,
   "id": "68d4e13b",
   "metadata": {},
   "outputs": [
    {
     "data": {
      "application/vnd.microsoft.datawrangler.viewer.v0+json": {
       "columns": [
        {
         "name": "index",
         "rawType": "int64",
         "type": "integer"
        },
        {
         "name": "title",
         "rawType": "object",
         "type": "string"
        },
        {
         "name": "beds",
         "rawType": "int32",
         "type": "integer"
        },
        {
         "name": "bath",
         "rawType": "int32",
         "type": "integer"
        },
        {
         "name": "area",
         "rawType": "int32",
         "type": "integer"
        },
        {
         "name": "adress",
         "rawType": "object",
         "type": "string"
        },
        {
         "name": "type",
         "rawType": "object",
         "type": "string"
        },
        {
         "name": "purpose",
         "rawType": "object",
         "type": "string"
        },
        {
         "name": "flooPlan",
         "rawType": "object",
         "type": "unknown"
        },
        {
         "name": "url",
         "rawType": "object",
         "type": "string"
        },
        {
         "name": "lastUpdated",
         "rawType": "object",
         "type": "string"
        },
        {
         "name": "price",
         "rawType": "int64",
         "type": "integer"
        },
        {
         "name": "neighborhood",
         "rawType": "object",
         "type": "string"
        }
       ],
       "ref": "1d926f9d-65eb-456c-b933-ab1055dfd03d",
       "rows": [
        [
         "0",
         "Eminent Apartment Of 2200 Sq Ft Is Vacant For Rent In Bashundhara R-A.",
         "3",
         "4",
         "2200",
         "Block A, Bashundhara R-A, Dhaka",
         "Apartment",
         "For Rent",
         "https://images-cdn.bproperty.com/thumbnails/1021948-240x180.webp",
         "https://www.bproperty.com/en/property/details-2082380.html",
         "August 13, 2022",
         "50000",
         "Bashundhara R-A"
        ],
        [
         "1",
         "Apartment Ready To Rent In South Khulshi, Nearby South Khulshi Police Station",
         "3",
         "4",
         "1400",
         "South Khulshi, Khulshi, Chattogram",
         "Apartment",
         "For Rent",
         "https://images-cdn.bproperty.com/thumbnails/44434-400x300.webp",
         "https://www.bproperty.com/en/property/details-1978917.html",
         "January 25, 2022",
         "30000",
         "Khulshi"
        ],
        [
         "2",
         "Smartly priced 1950 SQ FT apartment, that you should check in Bashundhara R-A",
         "3",
         "4",
         "1950",
         "Block F, Bashundhara R-A, Dhaka",
         "Apartment",
         "For Rent",
         "https://images-cdn.bproperty.com/thumbnails/116385-400x300.webp",
         "https://www.bproperty.com/en/property/details-5299675.html",
         "February 22, 2023",
         "30000",
         "Bashundhara R-A"
        ],
        [
         "3",
         "2000 Sq Ft Residential Apartment Is Up For Rental Purpose In Sector 9, Uttara",
         "3",
         "3",
         "2000",
         "Sector 9, Uttara, Dhaka",
         "Apartment",
         "For Rent",
         "https://images-cdn.bproperty.com/thumbnails/1419221-240x180.webp",
         "https://www.bproperty.com/en/property/details-3032662.html",
         "October 28, 2021",
         "35000",
         "Uttara"
        ],
        [
         "4",
         "Strongly Structured This 1650 Sq. ft Apartment Is Now Vacant For Rent In Block I , Bashundhara R-A",
         "3",
         "4",
         "1650",
         "Block I, Bashundhara R-A, Dhaka",
         "Apartment",
         "For Rent",
         "https://images-cdn.bproperty.com/thumbnails/1062867-240x180.webp",
         "https://www.bproperty.com/en/property/details-3241309.html",
         "February 19, 2023",
         "25000",
         "Bashundhara R-A"
        ],
        [
         "5",
         "A nice residential flat of 3400 SQ FT, for rent, can be found in Gulshan Avenue",
         "5",
         "5",
         "3400",
         "Gulshan 1, Gulshan, Dhaka",
         "Apartment",
         "For Rent",
         "https://images-cdn.bproperty.com/thumbnails/1549645-240x180.webp",
         "https://www.bproperty.com/en/property/details-3859222.html",
         "February 14, 2023",
         "110000",
         "Gulshan"
        ],
        [
         "6",
         "1600 Square Feet Apartment With Amazing Rooms Is For Rent In Uttara-6",
         "3",
         "3",
         "1600",
         "Sector 6, Uttara, Dhaka",
         "Apartment",
         "For Rent",
         "https://images-cdn.bproperty.com/thumbnails/1544311-240x180.webp",
         "https://www.bproperty.com/en/property/details-4621765.html",
         "August 6, 2022",
         "35000",
         "Uttara"
        ],
        [
         "7",
         "Let Us Help You To Rent This 1250 Sq Ft Apartment Which Is Now Available In Bashundhara R-A",
         "3",
         "3",
         "1250",
         "Block K, Bashundhara R-A, Dhaka",
         "Apartment",
         "For Rent",
         "https://images-cdn.bproperty.com/thumbnails/1563130-240x180.webp",
         "https://www.bproperty.com/en/property/details-5370542.html",
         "January 4, 2023",
         "23000",
         "Bashundhara R-A"
        ],
        [
         "8",
         "An Extensive Apartment Of 2150 Sq Ft Is Vacant For Rent In Ranavola Avenue, Uttara",
         "3",
         "4",
         "2150",
         "Sector 10, Uttara, Dhaka",
         "Apartment",
         "For Rent",
         "https://images-cdn.bproperty.com/thumbnails/1572723-240x180.webp",
         "https://www.bproperty.com/en/property/details-1941282.html",
         "June 28, 2022",
         "40000",
         "Uttara"
        ],
        [
         "9",
         "A well-constructed 1250 SQ FT apartment is ready to Rent in Bashundhara R-A",
         "3",
         "3",
         "1250",
         "Block K, Bashundhara R-A, Dhaka",
         "Apartment",
         "For Rent",
         "https://images-cdn.bproperty.com/thumbnails/1568722-240x180.webp",
         "https://www.bproperty.com/en/property/details-5370544.html",
         "January 4, 2023",
         "23000",
         "Bashundhara R-A"
        ],
        [
         "10",
         "Don’t Waste Your Valuable Time! You Can Take This 1250 Sq Ft Apartment For Rent In Bashundhara R-A",
         "3",
         "3",
         "1250",
         "Block K, Bashundhara R-A, Dhaka",
         "Apartment",
         "For Rent",
         "https://images-cdn.bproperty.com/thumbnails/1558270-240x180.webp",
         "https://www.bproperty.com/en/property/details-5370546.html",
         "January 4, 2023",
         "23000",
         "Bashundhara R-A"
        ],
        [
         "11",
         "In The Nice Location Of Bayazid, An Apartments Of 1580 Sq Ft Is Available For Rent",
         "3",
         "3",
         "1580",
         "Bayazid, Chattogram",
         "Apartment",
         "For Rent",
         "https://images-cdn.bproperty.com/thumbnails/1240805-240x180.webp",
         "https://www.bproperty.com/en/property/details-4937223.html",
         "January 15, 2023",
         "20000",
         "Bayazid"
        ],
        [
         "12",
         "Beautiful 3200 Sq Ft Apartment For Rent At Gulshan 1",
         "4",
         "4",
         "3200",
         "Gulshan 1, Gulshan, Dhaka",
         "Apartment",
         "For Rent",
         "https://images-cdn.bproperty.com/thumbnails/1485988-240x180.webp",
         "https://www.bproperty.com/en/property/details-3071757.html",
         "June 26, 2022",
         "250000",
         "Gulshan"
        ],
        [
         "13",
         "A well-defined residential apartment of 3000 SQ FT is available for rent in Gulshan",
         "3",
         "3",
         "3000",
         "Gulshan 2, Gulshan, Dhaka",
         "Apartment",
         "For Rent",
         "https://images-cdn.bproperty.com/thumbnails/1479042-240x180.webp",
         "https://www.bproperty.com/en/property/details-3088379.html",
         "March 15, 2022",
         "120000",
         "Gulshan"
        ],
        [
         "14",
         "Property for rent in Bashundhara R-A– 1250 SQ FT apartment",
         "3",
         "3",
         "1250",
         "Block K, Bashundhara R-A, Dhaka",
         "Apartment",
         "For Rent",
         "https://images-cdn.bproperty.com/thumbnails/1557514-240x180.webp",
         "https://www.bproperty.com/en/property/details-5370551.html",
         "January 4, 2023",
         "21000",
         "Bashundhara R-A"
        ],
        [
         "15",
         "In The Most Prime Location Of Uttara, An Apartment Of 1800 Sq Ft Is Available For Rent",
         "3",
         "4",
         "1800",
         "Sector 12, Uttara, Dhaka",
         "Apartment",
         "For Rent",
         "https://images-cdn.bproperty.com/thumbnails/1445746-240x180.webp",
         "https://www.bproperty.com/en/property/details-3451081.html",
         "February 15, 2023",
         "60000",
         "Uttara"
        ],
        [
         "16",
         "This flat in Bashundhara R-A is up for rent with an area of 1250 sq. ft",
         "3",
         "3",
         "1250",
         "Block K, Bashundhara R-A, Dhaka",
         "Apartment",
         "For Rent",
         "https://images-cdn.bproperty.com/thumbnails/1558077-240x180.webp",
         "https://www.bproperty.com/en/property/details-5370552.html",
         "January 4, 2023",
         "21000",
         "Bashundhara R-A"
        ],
        [
         "17",
         "A Fine Flat Is Now For Rent Which Is In Bashundhara R-A Near Ebenzer International School",
         "3",
         "3",
         "2000",
         "Block D, Bashundhara R-A, Dhaka",
         "Apartment",
         "For Rent",
         "https://images-cdn.bproperty.com/thumbnails/26649-240x180.webp",
         "https://www.bproperty.com/en/property/details-1972393.html",
         "August 7, 2022",
         "40000",
         "Bashundhara R-A"
        ],
        [
         "18",
         "An Apartment Is Ready For Rent At Bashundhara R-A, Near Independent University",
         "3",
         "4",
         "1750",
         "Block C, Bashundhara R-A, Dhaka",
         "Apartment",
         "For Rent",
         "https://images-cdn.bproperty.com/thumbnails/1116160-240x180.webp",
         "https://www.bproperty.com/en/property/details-1931033.html",
         "February 16, 2023",
         "30000",
         "Bashundhara R-A"
        ],
        [
         "19",
         "Use Your Time Perfectly To Take This 1250 Sq Ft Flat For Rent In Bashundhara R-A",
         "3",
         "3",
         "1250",
         "Block K, Bashundhara R-A, Dhaka",
         "Apartment",
         "For Rent",
         "https://images-cdn.bproperty.com/thumbnails/1563317-240x180.webp",
         "https://www.bproperty.com/en/property/details-5370543.html",
         "January 4, 2023",
         "23000",
         "Bashundhara R-A"
        ],
        [
         "20",
         "Worthy 1250 SQ FT Nice home is ready to Rent at Bashundhara R-A",
         "3",
         "3",
         "1250",
         "Block K, Bashundhara R-A, Dhaka",
         "Apartment",
         "For Rent",
         "https://images-cdn.bproperty.com/thumbnails/1558273-240x180.webp",
         "https://www.bproperty.com/en/property/details-5370547.html",
         "January 4, 2023",
         "23000",
         "Bashundhara R-A"
        ],
        [
         "21",
         "Brand New Flat Covering An Area Of 1310 Sq Ft Is Ready For Rent In Khilgaon",
         "3",
         "3",
         "1310",
         "Ward 23, Chowdhuripara, Khilgaon, Dhaka",
         "Apartment",
         "For Rent",
         "https://images-cdn.bproperty.com/thumbnails/914757-240x180.webp",
         "https://www.bproperty.com/en/property/details-2047959.html",
         "February 17, 2023",
         "28000",
         "Khilgaon"
        ],
        [
         "22",
         "Tastefully Designed This 1250 Sq Ft Apartment Is Now Vacant For Rent In Bashundhara R-a",
         "3",
         "3",
         "1250",
         "Block K, Bashundhara R-A, Dhaka",
         "Apartment",
         "For Rent",
         "https://images-cdn.bproperty.com/thumbnails/1558065-240x180.webp",
         "https://www.bproperty.com/en/property/details-5370550.html",
         "January 4, 2023",
         "21000",
         "Bashundhara R-A"
        ],
        [
         "23",
         "2200 sq. ft Flat For rent In Uttara Near NRB Commercial Bank",
         "3",
         "4",
         "2200",
         "Sector 3, Uttara, Dhaka",
         "Apartment",
         "For Rent",
         "https://images-cdn.bproperty.com/thumbnails/44890-240x180.webp",
         "https://www.bproperty.com/en/property/details-1931882.html",
         "February 18, 2023",
         "60000",
         "Uttara"
        ],
        [
         "24",
         "Wonderful Flat Covering An Area Of 1700 Sq Ft Is Available For Rent In Banani",
         "3",
         "4",
         "1700",
         "Banani, Dhaka",
         "Apartment",
         "For Rent",
         "https://images-cdn.bproperty.com/thumbnails/1013794-400x300.webp",
         "https://www.bproperty.com/en/property/details-5126870.html",
         "February 14, 2023",
         "75000",
         "Banani"
        ],
        [
         "25",
         "In this serene neighborhood of Dhanmondi, a flat is up for rent which is 2750 SQ FT",
         "4",
         "4",
         "2750",
         "Dhanmondi, Dhaka",
         "Apartment",
         "For Rent",
         "https://images-cdn.bproperty.com/thumbnails/810203-400x300.webp",
         "https://www.bproperty.com/en/property/details-4084279.html",
         "February 20, 2023",
         "120000",
         "Dhanmondi"
        ],
        [
         "26",
         "We Have A Ready Flat For Rent In Dhanmondi Nearby Dhanmondi Ideal College.",
         "3",
         "2",
         "1400",
         "Dhanmondi, Dhaka",
         "Apartment",
         "For Rent",
         "https://images-cdn.bproperty.com/thumbnails/1510050-240x180.webp",
         "https://www.bproperty.com/en/property/details-1959921.html",
         "February 19, 2023",
         "28000",
         "Dhanmondi"
        ],
        [
         "27",
         "In Baridhara 2500 Sq Ft Flat Is Available For Rent Which Is Now Close To Baridhara Jame Masjid",
         "4",
         "4",
         "2500",
         "Block J, Baridhara, Dhaka",
         "Apartment",
         "For Rent",
         "https://images-cdn.bproperty.com/thumbnails/1559594-240x180.webp",
         "https://www.bproperty.com/en/property/details-1801763.html",
         "February 20, 2023",
         "55000",
         "Baridhara"
        ],
        [
         "28",
         "An Apartment Is Up For Rent In West Shewrapara, Near East West International School",
         "1",
         "1",
         "550",
         "West Shewrapara, Mirpur, Dhaka",
         "Apartment",
         "For Rent",
         "https://images-cdn.bproperty.com/thumbnails/1570593-400x300.webp",
         "https://www.bproperty.com/en/property/details-1983283.html",
         "March 6, 2020",
         "12000",
         "Mirpur"
        ],
        [
         "29",
         "Affordable Flat Is Up For Rent In Rampura Nearby Hatir Jheel Lake",
         "3",
         "2",
         "1050",
         "Block D, Mohanagar Housing, West Rampura, Rampura, Dhaka",
         "Apartment",
         "For Rent",
         "https://images-cdn.bproperty.com/thumbnails/786887-240x180.webp",
         "https://www.bproperty.com/en/property/details-1828790.html",
         "February 13, 2023",
         "21000",
         "Rampura"
        ],
        [
         "30",
         "1350 Sq Ft Flat For Rent In Khulshi Close To Khulshi Jame Masjid",
         "2",
         "4",
         "1350",
         "Zakir Hossain Housing Society, South Khulshi, Khulshi, Chattogram",
         "Apartment",
         "For Rent",
         "https://images-cdn.bproperty.com/thumbnails/1422255-240x180.webp",
         "https://www.bproperty.com/en/property/details-1831055.html",
         "November 6, 2021",
         "30000",
         "Khulshi"
        ],
        [
         "31",
         "Affordable and beautiful flat is up for rent in Bashundhara R-A which is 1250 SQ FT",
         "3",
         "3",
         "1250",
         "Block K, Bashundhara R-A, Dhaka",
         "Apartment",
         "For Rent",
         "https://images-cdn.bproperty.com/thumbnails/1558298-240x180.webp",
         "https://www.bproperty.com/en/property/details-5370548.html",
         "January 4, 2023",
         "23000",
         "Bashundhara R-A"
        ],
        [
         "32",
         "3590 Sq Ft Apartment Is Ready For Rent In Banani",
         "4",
         "5",
         "3590",
         "Banani DOHS, Dhaka",
         "Apartment",
         "For Rent",
         "https://images-cdn.bproperty.com/thumbnails/1567630-400x300.webp",
         "https://www.bproperty.com/en/property/details-5055585.html",
         "February 13, 2023",
         "200000",
         "Banani DOHS"
        ],
        [
         "33",
         "Property in Bashundhara R-A– 1250 SQ FT Flat for rent",
         "3",
         "3",
         "1250",
         "Block K, Bashundhara R-A, Dhaka",
         "Apartment",
         "For Rent",
         "https://images-cdn.bproperty.com/thumbnails/1557368-240x180.webp",
         "https://www.bproperty.com/en/property/details-5370549.html",
         "January 4, 2023",
         "21000",
         "Bashundhara R-A"
        ],
        [
         "34",
         "2200 Sq Ft Flat For Rent In Khulshi Near Khulshi Jame Masjid",
         "4",
         "5",
         "2200",
         "Zakir Hossain Housing Society, South Khulshi, Khulshi, Chattogram",
         "Apartment",
         "For Rent",
         "https://images-cdn.bproperty.com/thumbnails/1479358-240x180.webp",
         "https://www.bproperty.com/en/property/details-1849110.html",
         "February 11, 2023",
         "110000",
         "Khulshi"
        ],
        [
         "35",
         "In Bashundhara R-A, 1250 Square Feet Residential Apartment Is Up For Rent",
         "3",
         "3",
         "1250",
         "Block J, Bashundhara R-A, Dhaka",
         "Apartment",
         "For Rent",
         "https://images-cdn.bproperty.com/thumbnails/977143-240x180.webp",
         "https://www.bproperty.com/en/property/details-2057397.html",
         "February 12, 2023",
         "20000",
         "Bashundhara R-A"
        ],
        [
         "36",
         "For Rental Purpose This Nice Flat Is Now Available In Khilkhet Near Haji Bari Mosjid.",
         "1",
         "1",
         "400",
         "Khilkhet, Dhaka",
         "Apartment",
         "For Rent",
         "https://images-cdn.bproperty.com/thumbnails/1538533-400x300.webp",
         "https://www.bproperty.com/en/property/details-2010529.html",
         "February 22, 2023",
         "10000",
         "Khilkhet"
        ],
        [
         "37",
         "Check This Fine Looking Residence Of 1250 Sq Ft Offered For Rent At Dhaka Uddan, Mohammadpur",
         "3",
         "3",
         "1250",
         "Block C, Dhaka Uddan, Mohammadpur, Dhaka",
         "Apartment",
         "For Rent",
         "https://images-cdn.bproperty.com/thumbnails/1035652-240x180.webp",
         "https://www.bproperty.com/en/property/details-4851836.html",
         "August 11, 2022",
         "18000",
         "Mohammadpur"
        ],
        [
         "38",
         "Visit This Apartment For Rent Of 2400 Sq Ft In Gulshan",
         "3",
         "3",
         "2400",
         "Gulshan 2, Gulshan, Dhaka",
         "Apartment",
         "For Rent",
         "https://images-cdn.bproperty.com/thumbnails/779564-400x300.webp",
         "https://www.bproperty.com/en/property/details-1869015.html",
         "February 12, 2023",
         "150000",
         "Gulshan"
        ],
        [
         "39",
         "A Small 500 Sq Ft 1-bedroom Apartment For Rent In Mohammadi Housing Ltd.",
         "1",
         "1",
         "500",
         "Mohammadi Housing LTD., Mohammadpur, Dhaka",
         "Apartment",
         "For Rent",
         "https://images-cdn.bproperty.com/thumbnails/1570593-400x300.webp",
         "https://www.bproperty.com/en/property/details-1957286.html",
         "February 20, 2023",
         "10000",
         "Mohammadpur"
        ],
        [
         "40",
         "In The Location Of Banani An Excellent Flat Of 1650 Sq Ft Is Waiting For Rent",
         "3",
         "3",
         "1650",
         "Banani, Dhaka",
         "Apartment",
         "For Rent",
         "https://images-cdn.bproperty.com/thumbnails/1325036-240x180.webp",
         "https://www.bproperty.com/en/property/details-5274187.html",
         "February 10, 2023",
         "85000",
         "Banani"
        ],
        [
         "41",
         "Grab This 1700 Sq Ft Apartment For Rent In Mirpur, Section-2",
         "4",
         "3",
         "1700",
         "Block D, Section 2, Mirpur, Dhaka",
         "Apartment",
         "For Rent",
         "https://images-cdn.bproperty.com/thumbnails/1562154-400x300.webp",
         "https://www.bproperty.com/en/property/details-3035799.html",
         "February 22, 2023",
         "30000",
         "Mirpur"
        ],
        [
         "42",
         "In The Fine Location Of Chatogram A 1600 Sq Ft Furnished Apartment Is All Set For Rent Near To Ab Bank Limited",
         "3",
         "3",
         "1600",
         "South Khulshi, Khulshi, Chattogram",
         "Apartment",
         "For Rent",
         "https://images-cdn.bproperty.com/thumbnails/1322642-240x180.webp",
         "https://www.bproperty.com/en/property/details-1819257.html",
         "February 10, 2023",
         "70000",
         "Khulshi"
        ],
        [
         "43",
         "Affordable And Beautiful Flat Is Up For Rent In West Rampura Which Is 2300 Sq Ft",
         "4",
         "4",
         "2300",
         "Block D, Mohanagar Housing, West Rampura, Rampura, Dhaka",
         "Apartment",
         "For Rent",
         "https://images-cdn.bproperty.com/thumbnails/1573675-240x180.webp",
         "https://www.bproperty.com/en/property/details-5554033.html",
         "February 12, 2023",
         "43000",
         "Rampura"
        ],
        [
         "44",
         "Let Us Help You To Rent This 1250 Sq Ft Apartment Which Is Now Available In Bashundhara R-A",
         "3",
         "3",
         "1250",
         "Block K, Bashundhara R-A, Dhaka",
         "Apartment",
         "For Rent",
         "https://images-cdn.bproperty.com/thumbnails/1568736-240x180.webp",
         "https://www.bproperty.com/en/property/details-5370545.html",
         "January 2, 2023",
         "21000",
         "Bashundhara R-A"
        ],
        [
         "45",
         "Impressively Done, Large 4350 Sq Ft Rental Residential Duplex Is In The Center Of Uttara, Sector 13",
         "5",
         "6",
         "4350",
         "Sector 13, Uttara, Dhaka",
         "Duplex",
         "For Rent",
         "https://images-cdn.bproperty.com/thumbnails/1496925-240x180.webp",
         "https://www.bproperty.com/en/property/details-3096458.html",
         "February 5, 2022",
         "110000",
         "Uttara"
        ],
        [
         "46",
         "Comfortable and well designed flat of 3200 SQ FT in Bashundhara R/A Block C for rent, near Mridha Bari Jame Mosjid",
         "4",
         "5",
         "3200",
         "Block C, Bashundhara R-A, Dhaka",
         "Apartment",
         "For Rent",
         "https://images-cdn.bproperty.com/thumbnails/520548-400x300.webp",
         "https://www.bproperty.com/en/property/details-1772824.html",
         "February 12, 2023",
         "100000",
         "Bashundhara R-A"
        ],
        [
         "47",
         "Luxurious And Furnished Apartment At Khulshi, For Rent Close To Khulshi Jame Masjid",
         "4",
         "5",
         "2000",
         "Khulshi Hill R/A, North Khulshi, Khulshi, Chattogram",
         "Apartment",
         "For Rent",
         "https://images-cdn.bproperty.com/thumbnails/188409-240x180.webp",
         "https://www.bproperty.com/en/property/details-1981196.html",
         "January 23, 2022",
         "80000",
         "Khulshi"
        ],
        [
         "48",
         "Nice Flat Can Be Found In Kalabagan For Rent, Near Bashir Uddin Jame Mosque.",
         "3",
         "4",
         "2000",
         "Kalabagan, Dhaka",
         "Apartment",
         "For Rent",
         "https://images-cdn.bproperty.com/thumbnails/45850-240x180.webp",
         "https://www.bproperty.com/en/property/details-1911186.html",
         "February 14, 2023",
         "45000",
         "Kalabagan"
        ],
        [
         "49",
         "A Decent 1200 Sq Ft Flat Is Now To Rent In Mohammadpur",
         "3",
         "3",
         "1200",
         "Mohammadia Housing Society, Mohammadpur, Dhaka",
         "Apartment",
         "For Rent",
         "https://images-cdn.bproperty.com/thumbnails/1567039-400x300.webp",
         "https://www.bproperty.com/en/property/details-4648875.html",
         "February 19, 2023",
         "25000",
         "Mohammadpur"
        ]
       ],
       "shape": {
        "columns": 12,
        "rows": 7557
       }
      },
      "text/html": [
       "<div>\n",
       "<style scoped>\n",
       "    .dataframe tbody tr th:only-of-type {\n",
       "        vertical-align: middle;\n",
       "    }\n",
       "\n",
       "    .dataframe tbody tr th {\n",
       "        vertical-align: top;\n",
       "    }\n",
       "\n",
       "    .dataframe thead th {\n",
       "        text-align: right;\n",
       "    }\n",
       "</style>\n",
       "<table border=\"1\" class=\"dataframe\">\n",
       "  <thead>\n",
       "    <tr style=\"text-align: right;\">\n",
       "      <th></th>\n",
       "      <th>title</th>\n",
       "      <th>beds</th>\n",
       "      <th>bath</th>\n",
       "      <th>area</th>\n",
       "      <th>adress</th>\n",
       "      <th>type</th>\n",
       "      <th>purpose</th>\n",
       "      <th>flooPlan</th>\n",
       "      <th>url</th>\n",
       "      <th>lastUpdated</th>\n",
       "      <th>price</th>\n",
       "      <th>neighborhood</th>\n",
       "    </tr>\n",
       "  </thead>\n",
       "  <tbody>\n",
       "    <tr>\n",
       "      <th>0</th>\n",
       "      <td>Eminent Apartment Of 2200 Sq Ft Is Vacant For ...</td>\n",
       "      <td>3</td>\n",
       "      <td>4</td>\n",
       "      <td>2200</td>\n",
       "      <td>Block A, Bashundhara R-A, Dhaka</td>\n",
       "      <td>Apartment</td>\n",
       "      <td>For Rent</td>\n",
       "      <td>https://images-cdn.bproperty.com/thumbnails/10...</td>\n",
       "      <td>https://www.bproperty.com/en/property/details-...</td>\n",
       "      <td>August 13, 2022</td>\n",
       "      <td>50000</td>\n",
       "      <td>Bashundhara R-A</td>\n",
       "    </tr>\n",
       "    <tr>\n",
       "      <th>1</th>\n",
       "      <td>Apartment Ready To Rent In South Khulshi, Near...</td>\n",
       "      <td>3</td>\n",
       "      <td>4</td>\n",
       "      <td>1400</td>\n",
       "      <td>South Khulshi, Khulshi, Chattogram</td>\n",
       "      <td>Apartment</td>\n",
       "      <td>For Rent</td>\n",
       "      <td>https://images-cdn.bproperty.com/thumbnails/44...</td>\n",
       "      <td>https://www.bproperty.com/en/property/details-...</td>\n",
       "      <td>January 25, 2022</td>\n",
       "      <td>30000</td>\n",
       "      <td>Khulshi</td>\n",
       "    </tr>\n",
       "    <tr>\n",
       "      <th>2</th>\n",
       "      <td>Smartly priced 1950 SQ FT apartment, that you ...</td>\n",
       "      <td>3</td>\n",
       "      <td>4</td>\n",
       "      <td>1950</td>\n",
       "      <td>Block F, Bashundhara R-A, Dhaka</td>\n",
       "      <td>Apartment</td>\n",
       "      <td>For Rent</td>\n",
       "      <td>https://images-cdn.bproperty.com/thumbnails/11...</td>\n",
       "      <td>https://www.bproperty.com/en/property/details-...</td>\n",
       "      <td>February 22, 2023</td>\n",
       "      <td>30000</td>\n",
       "      <td>Bashundhara R-A</td>\n",
       "    </tr>\n",
       "    <tr>\n",
       "      <th>3</th>\n",
       "      <td>2000 Sq Ft Residential Apartment Is Up For Ren...</td>\n",
       "      <td>3</td>\n",
       "      <td>3</td>\n",
       "      <td>2000</td>\n",
       "      <td>Sector 9, Uttara, Dhaka</td>\n",
       "      <td>Apartment</td>\n",
       "      <td>For Rent</td>\n",
       "      <td>https://images-cdn.bproperty.com/thumbnails/14...</td>\n",
       "      <td>https://www.bproperty.com/en/property/details-...</td>\n",
       "      <td>October 28, 2021</td>\n",
       "      <td>35000</td>\n",
       "      <td>Uttara</td>\n",
       "    </tr>\n",
       "    <tr>\n",
       "      <th>4</th>\n",
       "      <td>Strongly Structured This 1650 Sq. ft Apartment...</td>\n",
       "      <td>3</td>\n",
       "      <td>4</td>\n",
       "      <td>1650</td>\n",
       "      <td>Block I, Bashundhara R-A, Dhaka</td>\n",
       "      <td>Apartment</td>\n",
       "      <td>For Rent</td>\n",
       "      <td>https://images-cdn.bproperty.com/thumbnails/10...</td>\n",
       "      <td>https://www.bproperty.com/en/property/details-...</td>\n",
       "      <td>February 19, 2023</td>\n",
       "      <td>25000</td>\n",
       "      <td>Bashundhara R-A</td>\n",
       "    </tr>\n",
       "    <tr>\n",
       "      <th>...</th>\n",
       "      <td>...</td>\n",
       "      <td>...</td>\n",
       "      <td>...</td>\n",
       "      <td>...</td>\n",
       "      <td>...</td>\n",
       "      <td>...</td>\n",
       "      <td>...</td>\n",
       "      <td>...</td>\n",
       "      <td>...</td>\n",
       "      <td>...</td>\n",
       "      <td>...</td>\n",
       "      <td>...</td>\n",
       "    </tr>\n",
       "    <tr>\n",
       "      <th>7552</th>\n",
       "      <td>Picture Yourself, Residing In This Well Constr...</td>\n",
       "      <td>4</td>\n",
       "      <td>4</td>\n",
       "      <td>3600</td>\n",
       "      <td>Sector 3, Uttara, Dhaka</td>\n",
       "      <td>Duplex</td>\n",
       "      <td>For Rent</td>\n",
       "      <td>https://images-cdn.bproperty.com/thumbnails/15...</td>\n",
       "      <td>https://www.bproperty.com/en/property/details-...</td>\n",
       "      <td>February 7, 2023</td>\n",
       "      <td>80000</td>\n",
       "      <td>Uttara</td>\n",
       "    </tr>\n",
       "    <tr>\n",
       "      <th>7553</th>\n",
       "      <td>Flat For Rent In Uttara Sector 13 Near Lubana ...</td>\n",
       "      <td>3</td>\n",
       "      <td>2</td>\n",
       "      <td>900</td>\n",
       "      <td>Sector 13, Uttara, Dhaka</td>\n",
       "      <td>Apartment</td>\n",
       "      <td>For Rent</td>\n",
       "      <td>https://images-cdn.bproperty.com/thumbnails/15...</td>\n",
       "      <td>https://www.bproperty.com/en/property/details-...</td>\n",
       "      <td>February 9, 2022</td>\n",
       "      <td>19000</td>\n",
       "      <td>Uttara</td>\n",
       "    </tr>\n",
       "    <tr>\n",
       "      <th>7554</th>\n",
       "      <td>1000 SQ FT flat for rent in Uttara Sector 13 n...</td>\n",
       "      <td>2</td>\n",
       "      <td>2</td>\n",
       "      <td>1000</td>\n",
       "      <td>Sector 13, Uttara, Dhaka</td>\n",
       "      <td>Apartment</td>\n",
       "      <td>For Rent</td>\n",
       "      <td>https://images-cdn.bproperty.com/thumbnails/12...</td>\n",
       "      <td>https://www.bproperty.com/en/property/details-...</td>\n",
       "      <td>February 14, 2022</td>\n",
       "      <td>22000</td>\n",
       "      <td>Uttara</td>\n",
       "    </tr>\n",
       "    <tr>\n",
       "      <th>7555</th>\n",
       "      <td>Well Planned Apartment For Rent In Gulshan 1 N...</td>\n",
       "      <td>3</td>\n",
       "      <td>4</td>\n",
       "      <td>3600</td>\n",
       "      <td>Gulshan 1, Gulshan, Dhaka</td>\n",
       "      <td>Apartment</td>\n",
       "      <td>For Rent</td>\n",
       "      <td>https://images-cdn.bproperty.com/thumbnails/30...</td>\n",
       "      <td>https://www.bproperty.com/en/property/details-...</td>\n",
       "      <td>February 7, 2023</td>\n",
       "      <td>175000</td>\n",
       "      <td>Gulshan</td>\n",
       "    </tr>\n",
       "    <tr>\n",
       "      <th>7556</th>\n",
       "      <td>An Apartment Is Ready For Rent At Baridhara DO...</td>\n",
       "      <td>4</td>\n",
       "      <td>4</td>\n",
       "      <td>2600</td>\n",
       "      <td>Baridhara DOHS, Dhaka</td>\n",
       "      <td>Apartment</td>\n",
       "      <td>For Rent</td>\n",
       "      <td>https://images-cdn.bproperty.com/thumbnails/15...</td>\n",
       "      <td>https://www.bproperty.com/en/property/details-...</td>\n",
       "      <td>November 22, 2021</td>\n",
       "      <td>90000</td>\n",
       "      <td>Baridhara DOHS</td>\n",
       "    </tr>\n",
       "  </tbody>\n",
       "</table>\n",
       "<p>7557 rows × 12 columns</p>\n",
       "</div>"
      ],
      "text/plain": [
       "                                                  title  beds  bath  area  \\\n",
       "0     Eminent Apartment Of 2200 Sq Ft Is Vacant For ...     3     4  2200   \n",
       "1     Apartment Ready To Rent In South Khulshi, Near...     3     4  1400   \n",
       "2     Smartly priced 1950 SQ FT apartment, that you ...     3     4  1950   \n",
       "3     2000 Sq Ft Residential Apartment Is Up For Ren...     3     3  2000   \n",
       "4     Strongly Structured This 1650 Sq. ft Apartment...     3     4  1650   \n",
       "...                                                 ...   ...   ...   ...   \n",
       "7552  Picture Yourself, Residing In This Well Constr...     4     4  3600   \n",
       "7553  Flat For Rent In Uttara Sector 13 Near Lubana ...     3     2   900   \n",
       "7554  1000 SQ FT flat for rent in Uttara Sector 13 n...     2     2  1000   \n",
       "7555  Well Planned Apartment For Rent In Gulshan 1 N...     3     4  3600   \n",
       "7556  An Apartment Is Ready For Rent At Baridhara DO...     4     4  2600   \n",
       "\n",
       "                                  adress       type   purpose  \\\n",
       "0        Block A, Bashundhara R-A, Dhaka  Apartment  For Rent   \n",
       "1     South Khulshi, Khulshi, Chattogram  Apartment  For Rent   \n",
       "2        Block F, Bashundhara R-A, Dhaka  Apartment  For Rent   \n",
       "3                Sector 9, Uttara, Dhaka  Apartment  For Rent   \n",
       "4        Block I, Bashundhara R-A, Dhaka  Apartment  For Rent   \n",
       "...                                  ...        ...       ...   \n",
       "7552             Sector 3, Uttara, Dhaka     Duplex  For Rent   \n",
       "7553            Sector 13, Uttara, Dhaka  Apartment  For Rent   \n",
       "7554            Sector 13, Uttara, Dhaka  Apartment  For Rent   \n",
       "7555           Gulshan 1, Gulshan, Dhaka  Apartment  For Rent   \n",
       "7556               Baridhara DOHS, Dhaka  Apartment  For Rent   \n",
       "\n",
       "                                               flooPlan  \\\n",
       "0     https://images-cdn.bproperty.com/thumbnails/10...   \n",
       "1     https://images-cdn.bproperty.com/thumbnails/44...   \n",
       "2     https://images-cdn.bproperty.com/thumbnails/11...   \n",
       "3     https://images-cdn.bproperty.com/thumbnails/14...   \n",
       "4     https://images-cdn.bproperty.com/thumbnails/10...   \n",
       "...                                                 ...   \n",
       "7552  https://images-cdn.bproperty.com/thumbnails/15...   \n",
       "7553  https://images-cdn.bproperty.com/thumbnails/15...   \n",
       "7554  https://images-cdn.bproperty.com/thumbnails/12...   \n",
       "7555  https://images-cdn.bproperty.com/thumbnails/30...   \n",
       "7556  https://images-cdn.bproperty.com/thumbnails/15...   \n",
       "\n",
       "                                                    url        lastUpdated  \\\n",
       "0     https://www.bproperty.com/en/property/details-...    August 13, 2022   \n",
       "1     https://www.bproperty.com/en/property/details-...   January 25, 2022   \n",
       "2     https://www.bproperty.com/en/property/details-...  February 22, 2023   \n",
       "3     https://www.bproperty.com/en/property/details-...   October 28, 2021   \n",
       "4     https://www.bproperty.com/en/property/details-...  February 19, 2023   \n",
       "...                                                 ...                ...   \n",
       "7552  https://www.bproperty.com/en/property/details-...   February 7, 2023   \n",
       "7553  https://www.bproperty.com/en/property/details-...   February 9, 2022   \n",
       "7554  https://www.bproperty.com/en/property/details-...  February 14, 2022   \n",
       "7555  https://www.bproperty.com/en/property/details-...   February 7, 2023   \n",
       "7556  https://www.bproperty.com/en/property/details-...  November 22, 2021   \n",
       "\n",
       "       price     neighborhood  \n",
       "0      50000  Bashundhara R-A  \n",
       "1      30000          Khulshi  \n",
       "2      30000  Bashundhara R-A  \n",
       "3      35000           Uttara  \n",
       "4      25000  Bashundhara R-A  \n",
       "...      ...              ...  \n",
       "7552   80000           Uttara  \n",
       "7553   19000           Uttara  \n",
       "7554   22000           Uttara  \n",
       "7555  175000          Gulshan  \n",
       "7556   90000   Baridhara DOHS  \n",
       "\n",
       "[7557 rows x 12 columns]"
      ]
     },
     "execution_count": 8,
     "metadata": {},
     "output_type": "execute_result"
    }
   ],
   "source": [
    "df_property['neighborhood'] = df_property['adress'].apply(lambda x: x.split(',')[-2].strip() if len(x.split(',')) >= 2 else \"Unknown\")\n",
    "df_property"
   ]
  },
  {
   "cell_type": "code",
   "execution_count": 9,
   "id": "1110ea76",
   "metadata": {},
   "outputs": [
    {
     "data": {
      "application/vnd.microsoft.datawrangler.viewer.v0+json": {
       "columns": [
        {
         "name": "index",
         "rawType": "int64",
         "type": "integer"
        },
        {
         "name": "title",
         "rawType": "object",
         "type": "string"
        },
        {
         "name": "beds",
         "rawType": "int32",
         "type": "integer"
        },
        {
         "name": "bath",
         "rawType": "int32",
         "type": "integer"
        },
        {
         "name": "area",
         "rawType": "int32",
         "type": "integer"
        },
        {
         "name": "adress",
         "rawType": "object",
         "type": "string"
        },
        {
         "name": "type",
         "rawType": "object",
         "type": "string"
        },
        {
         "name": "purpose",
         "rawType": "object",
         "type": "string"
        },
        {
         "name": "flooPlan",
         "rawType": "object",
         "type": "unknown"
        },
        {
         "name": "url",
         "rawType": "object",
         "type": "string"
        },
        {
         "name": "lastUpdated",
         "rawType": "object",
         "type": "string"
        },
        {
         "name": "price",
         "rawType": "int64",
         "type": "integer"
        },
        {
         "name": "neighborhood",
         "rawType": "object",
         "type": "string"
        },
        {
         "name": "city",
         "rawType": "object",
         "type": "string"
        }
       ],
       "ref": "fc00e0cb-8fd8-4cf1-be56-c3a567f4a3b0",
       "rows": [
        [
         "0",
         "Eminent Apartment Of 2200 Sq Ft Is Vacant For Rent In Bashundhara R-A.",
         "3",
         "4",
         "2200",
         "Block A, Bashundhara R-A, Dhaka",
         "Apartment",
         "For Rent",
         "https://images-cdn.bproperty.com/thumbnails/1021948-240x180.webp",
         "https://www.bproperty.com/en/property/details-2082380.html",
         "August 13, 2022",
         "50000",
         "Bashundhara R-A",
         "Dhaka"
        ],
        [
         "2",
         "Smartly priced 1950 SQ FT apartment, that you should check in Bashundhara R-A",
         "3",
         "4",
         "1950",
         "Block F, Bashundhara R-A, Dhaka",
         "Apartment",
         "For Rent",
         "https://images-cdn.bproperty.com/thumbnails/116385-400x300.webp",
         "https://www.bproperty.com/en/property/details-5299675.html",
         "February 22, 2023",
         "30000",
         "Bashundhara R-A",
         "Dhaka"
        ],
        [
         "3",
         "2000 Sq Ft Residential Apartment Is Up For Rental Purpose In Sector 9, Uttara",
         "3",
         "3",
         "2000",
         "Sector 9, Uttara, Dhaka",
         "Apartment",
         "For Rent",
         "https://images-cdn.bproperty.com/thumbnails/1419221-240x180.webp",
         "https://www.bproperty.com/en/property/details-3032662.html",
         "October 28, 2021",
         "35000",
         "Uttara",
         "Dhaka"
        ],
        [
         "4",
         "Strongly Structured This 1650 Sq. ft Apartment Is Now Vacant For Rent In Block I , Bashundhara R-A",
         "3",
         "4",
         "1650",
         "Block I, Bashundhara R-A, Dhaka",
         "Apartment",
         "For Rent",
         "https://images-cdn.bproperty.com/thumbnails/1062867-240x180.webp",
         "https://www.bproperty.com/en/property/details-3241309.html",
         "February 19, 2023",
         "25000",
         "Bashundhara R-A",
         "Dhaka"
        ],
        [
         "5",
         "A nice residential flat of 3400 SQ FT, for rent, can be found in Gulshan Avenue",
         "5",
         "5",
         "3400",
         "Gulshan 1, Gulshan, Dhaka",
         "Apartment",
         "For Rent",
         "https://images-cdn.bproperty.com/thumbnails/1549645-240x180.webp",
         "https://www.bproperty.com/en/property/details-3859222.html",
         "February 14, 2023",
         "110000",
         "Gulshan",
         "Dhaka"
        ],
        [
         "6",
         "1600 Square Feet Apartment With Amazing Rooms Is For Rent In Uttara-6",
         "3",
         "3",
         "1600",
         "Sector 6, Uttara, Dhaka",
         "Apartment",
         "For Rent",
         "https://images-cdn.bproperty.com/thumbnails/1544311-240x180.webp",
         "https://www.bproperty.com/en/property/details-4621765.html",
         "August 6, 2022",
         "35000",
         "Uttara",
         "Dhaka"
        ],
        [
         "7",
         "Let Us Help You To Rent This 1250 Sq Ft Apartment Which Is Now Available In Bashundhara R-A",
         "3",
         "3",
         "1250",
         "Block K, Bashundhara R-A, Dhaka",
         "Apartment",
         "For Rent",
         "https://images-cdn.bproperty.com/thumbnails/1563130-240x180.webp",
         "https://www.bproperty.com/en/property/details-5370542.html",
         "January 4, 2023",
         "23000",
         "Bashundhara R-A",
         "Dhaka"
        ],
        [
         "8",
         "An Extensive Apartment Of 2150 Sq Ft Is Vacant For Rent In Ranavola Avenue, Uttara",
         "3",
         "4",
         "2150",
         "Sector 10, Uttara, Dhaka",
         "Apartment",
         "For Rent",
         "https://images-cdn.bproperty.com/thumbnails/1572723-240x180.webp",
         "https://www.bproperty.com/en/property/details-1941282.html",
         "June 28, 2022",
         "40000",
         "Uttara",
         "Dhaka"
        ],
        [
         "9",
         "A well-constructed 1250 SQ FT apartment is ready to Rent in Bashundhara R-A",
         "3",
         "3",
         "1250",
         "Block K, Bashundhara R-A, Dhaka",
         "Apartment",
         "For Rent",
         "https://images-cdn.bproperty.com/thumbnails/1568722-240x180.webp",
         "https://www.bproperty.com/en/property/details-5370544.html",
         "January 4, 2023",
         "23000",
         "Bashundhara R-A",
         "Dhaka"
        ],
        [
         "10",
         "Don’t Waste Your Valuable Time! You Can Take This 1250 Sq Ft Apartment For Rent In Bashundhara R-A",
         "3",
         "3",
         "1250",
         "Block K, Bashundhara R-A, Dhaka",
         "Apartment",
         "For Rent",
         "https://images-cdn.bproperty.com/thumbnails/1558270-240x180.webp",
         "https://www.bproperty.com/en/property/details-5370546.html",
         "January 4, 2023",
         "23000",
         "Bashundhara R-A",
         "Dhaka"
        ],
        [
         "12",
         "Beautiful 3200 Sq Ft Apartment For Rent At Gulshan 1",
         "4",
         "4",
         "3200",
         "Gulshan 1, Gulshan, Dhaka",
         "Apartment",
         "For Rent",
         "https://images-cdn.bproperty.com/thumbnails/1485988-240x180.webp",
         "https://www.bproperty.com/en/property/details-3071757.html",
         "June 26, 2022",
         "250000",
         "Gulshan",
         "Dhaka"
        ],
        [
         "13",
         "A well-defined residential apartment of 3000 SQ FT is available for rent in Gulshan",
         "3",
         "3",
         "3000",
         "Gulshan 2, Gulshan, Dhaka",
         "Apartment",
         "For Rent",
         "https://images-cdn.bproperty.com/thumbnails/1479042-240x180.webp",
         "https://www.bproperty.com/en/property/details-3088379.html",
         "March 15, 2022",
         "120000",
         "Gulshan",
         "Dhaka"
        ],
        [
         "14",
         "Property for rent in Bashundhara R-A– 1250 SQ FT apartment",
         "3",
         "3",
         "1250",
         "Block K, Bashundhara R-A, Dhaka",
         "Apartment",
         "For Rent",
         "https://images-cdn.bproperty.com/thumbnails/1557514-240x180.webp",
         "https://www.bproperty.com/en/property/details-5370551.html",
         "January 4, 2023",
         "21000",
         "Bashundhara R-A",
         "Dhaka"
        ],
        [
         "15",
         "In The Most Prime Location Of Uttara, An Apartment Of 1800 Sq Ft Is Available For Rent",
         "3",
         "4",
         "1800",
         "Sector 12, Uttara, Dhaka",
         "Apartment",
         "For Rent",
         "https://images-cdn.bproperty.com/thumbnails/1445746-240x180.webp",
         "https://www.bproperty.com/en/property/details-3451081.html",
         "February 15, 2023",
         "60000",
         "Uttara",
         "Dhaka"
        ],
        [
         "16",
         "This flat in Bashundhara R-A is up for rent with an area of 1250 sq. ft",
         "3",
         "3",
         "1250",
         "Block K, Bashundhara R-A, Dhaka",
         "Apartment",
         "For Rent",
         "https://images-cdn.bproperty.com/thumbnails/1558077-240x180.webp",
         "https://www.bproperty.com/en/property/details-5370552.html",
         "January 4, 2023",
         "21000",
         "Bashundhara R-A",
         "Dhaka"
        ],
        [
         "17",
         "A Fine Flat Is Now For Rent Which Is In Bashundhara R-A Near Ebenzer International School",
         "3",
         "3",
         "2000",
         "Block D, Bashundhara R-A, Dhaka",
         "Apartment",
         "For Rent",
         "https://images-cdn.bproperty.com/thumbnails/26649-240x180.webp",
         "https://www.bproperty.com/en/property/details-1972393.html",
         "August 7, 2022",
         "40000",
         "Bashundhara R-A",
         "Dhaka"
        ],
        [
         "18",
         "An Apartment Is Ready For Rent At Bashundhara R-A, Near Independent University",
         "3",
         "4",
         "1750",
         "Block C, Bashundhara R-A, Dhaka",
         "Apartment",
         "For Rent",
         "https://images-cdn.bproperty.com/thumbnails/1116160-240x180.webp",
         "https://www.bproperty.com/en/property/details-1931033.html",
         "February 16, 2023",
         "30000",
         "Bashundhara R-A",
         "Dhaka"
        ],
        [
         "19",
         "Use Your Time Perfectly To Take This 1250 Sq Ft Flat For Rent In Bashundhara R-A",
         "3",
         "3",
         "1250",
         "Block K, Bashundhara R-A, Dhaka",
         "Apartment",
         "For Rent",
         "https://images-cdn.bproperty.com/thumbnails/1563317-240x180.webp",
         "https://www.bproperty.com/en/property/details-5370543.html",
         "January 4, 2023",
         "23000",
         "Bashundhara R-A",
         "Dhaka"
        ],
        [
         "20",
         "Worthy 1250 SQ FT Nice home is ready to Rent at Bashundhara R-A",
         "3",
         "3",
         "1250",
         "Block K, Bashundhara R-A, Dhaka",
         "Apartment",
         "For Rent",
         "https://images-cdn.bproperty.com/thumbnails/1558273-240x180.webp",
         "https://www.bproperty.com/en/property/details-5370547.html",
         "January 4, 2023",
         "23000",
         "Bashundhara R-A",
         "Dhaka"
        ],
        [
         "21",
         "Brand New Flat Covering An Area Of 1310 Sq Ft Is Ready For Rent In Khilgaon",
         "3",
         "3",
         "1310",
         "Ward 23, Chowdhuripara, Khilgaon, Dhaka",
         "Apartment",
         "For Rent",
         "https://images-cdn.bproperty.com/thumbnails/914757-240x180.webp",
         "https://www.bproperty.com/en/property/details-2047959.html",
         "February 17, 2023",
         "28000",
         "Khilgaon",
         "Dhaka"
        ],
        [
         "22",
         "Tastefully Designed This 1250 Sq Ft Apartment Is Now Vacant For Rent In Bashundhara R-a",
         "3",
         "3",
         "1250",
         "Block K, Bashundhara R-A, Dhaka",
         "Apartment",
         "For Rent",
         "https://images-cdn.bproperty.com/thumbnails/1558065-240x180.webp",
         "https://www.bproperty.com/en/property/details-5370550.html",
         "January 4, 2023",
         "21000",
         "Bashundhara R-A",
         "Dhaka"
        ],
        [
         "23",
         "2200 sq. ft Flat For rent In Uttara Near NRB Commercial Bank",
         "3",
         "4",
         "2200",
         "Sector 3, Uttara, Dhaka",
         "Apartment",
         "For Rent",
         "https://images-cdn.bproperty.com/thumbnails/44890-240x180.webp",
         "https://www.bproperty.com/en/property/details-1931882.html",
         "February 18, 2023",
         "60000",
         "Uttara",
         "Dhaka"
        ],
        [
         "24",
         "Wonderful Flat Covering An Area Of 1700 Sq Ft Is Available For Rent In Banani",
         "3",
         "4",
         "1700",
         "Banani, Dhaka",
         "Apartment",
         "For Rent",
         "https://images-cdn.bproperty.com/thumbnails/1013794-400x300.webp",
         "https://www.bproperty.com/en/property/details-5126870.html",
         "February 14, 2023",
         "75000",
         "Banani",
         "Dhaka"
        ],
        [
         "25",
         "In this serene neighborhood of Dhanmondi, a flat is up for rent which is 2750 SQ FT",
         "4",
         "4",
         "2750",
         "Dhanmondi, Dhaka",
         "Apartment",
         "For Rent",
         "https://images-cdn.bproperty.com/thumbnails/810203-400x300.webp",
         "https://www.bproperty.com/en/property/details-4084279.html",
         "February 20, 2023",
         "120000",
         "Dhanmondi",
         "Dhaka"
        ],
        [
         "26",
         "We Have A Ready Flat For Rent In Dhanmondi Nearby Dhanmondi Ideal College.",
         "3",
         "2",
         "1400",
         "Dhanmondi, Dhaka",
         "Apartment",
         "For Rent",
         "https://images-cdn.bproperty.com/thumbnails/1510050-240x180.webp",
         "https://www.bproperty.com/en/property/details-1959921.html",
         "February 19, 2023",
         "28000",
         "Dhanmondi",
         "Dhaka"
        ],
        [
         "27",
         "In Baridhara 2500 Sq Ft Flat Is Available For Rent Which Is Now Close To Baridhara Jame Masjid",
         "4",
         "4",
         "2500",
         "Block J, Baridhara, Dhaka",
         "Apartment",
         "For Rent",
         "https://images-cdn.bproperty.com/thumbnails/1559594-240x180.webp",
         "https://www.bproperty.com/en/property/details-1801763.html",
         "February 20, 2023",
         "55000",
         "Baridhara",
         "Dhaka"
        ],
        [
         "28",
         "An Apartment Is Up For Rent In West Shewrapara, Near East West International School",
         "1",
         "1",
         "550",
         "West Shewrapara, Mirpur, Dhaka",
         "Apartment",
         "For Rent",
         "https://images-cdn.bproperty.com/thumbnails/1570593-400x300.webp",
         "https://www.bproperty.com/en/property/details-1983283.html",
         "March 6, 2020",
         "12000",
         "Mirpur",
         "Dhaka"
        ],
        [
         "29",
         "Affordable Flat Is Up For Rent In Rampura Nearby Hatir Jheel Lake",
         "3",
         "2",
         "1050",
         "Block D, Mohanagar Housing, West Rampura, Rampura, Dhaka",
         "Apartment",
         "For Rent",
         "https://images-cdn.bproperty.com/thumbnails/786887-240x180.webp",
         "https://www.bproperty.com/en/property/details-1828790.html",
         "February 13, 2023",
         "21000",
         "Rampura",
         "Dhaka"
        ],
        [
         "31",
         "Affordable and beautiful flat is up for rent in Bashundhara R-A which is 1250 SQ FT",
         "3",
         "3",
         "1250",
         "Block K, Bashundhara R-A, Dhaka",
         "Apartment",
         "For Rent",
         "https://images-cdn.bproperty.com/thumbnails/1558298-240x180.webp",
         "https://www.bproperty.com/en/property/details-5370548.html",
         "January 4, 2023",
         "23000",
         "Bashundhara R-A",
         "Dhaka"
        ],
        [
         "32",
         "3590 Sq Ft Apartment Is Ready For Rent In Banani",
         "4",
         "5",
         "3590",
         "Banani DOHS, Dhaka",
         "Apartment",
         "For Rent",
         "https://images-cdn.bproperty.com/thumbnails/1567630-400x300.webp",
         "https://www.bproperty.com/en/property/details-5055585.html",
         "February 13, 2023",
         "200000",
         "Banani DOHS",
         "Dhaka"
        ],
        [
         "33",
         "Property in Bashundhara R-A– 1250 SQ FT Flat for rent",
         "3",
         "3",
         "1250",
         "Block K, Bashundhara R-A, Dhaka",
         "Apartment",
         "For Rent",
         "https://images-cdn.bproperty.com/thumbnails/1557368-240x180.webp",
         "https://www.bproperty.com/en/property/details-5370549.html",
         "January 4, 2023",
         "21000",
         "Bashundhara R-A",
         "Dhaka"
        ],
        [
         "35",
         "In Bashundhara R-A, 1250 Square Feet Residential Apartment Is Up For Rent",
         "3",
         "3",
         "1250",
         "Block J, Bashundhara R-A, Dhaka",
         "Apartment",
         "For Rent",
         "https://images-cdn.bproperty.com/thumbnails/977143-240x180.webp",
         "https://www.bproperty.com/en/property/details-2057397.html",
         "February 12, 2023",
         "20000",
         "Bashundhara R-A",
         "Dhaka"
        ],
        [
         "36",
         "For Rental Purpose This Nice Flat Is Now Available In Khilkhet Near Haji Bari Mosjid.",
         "1",
         "1",
         "400",
         "Khilkhet, Dhaka",
         "Apartment",
         "For Rent",
         "https://images-cdn.bproperty.com/thumbnails/1538533-400x300.webp",
         "https://www.bproperty.com/en/property/details-2010529.html",
         "February 22, 2023",
         "10000",
         "Khilkhet",
         "Dhaka"
        ],
        [
         "37",
         "Check This Fine Looking Residence Of 1250 Sq Ft Offered For Rent At Dhaka Uddan, Mohammadpur",
         "3",
         "3",
         "1250",
         "Block C, Dhaka Uddan, Mohammadpur, Dhaka",
         "Apartment",
         "For Rent",
         "https://images-cdn.bproperty.com/thumbnails/1035652-240x180.webp",
         "https://www.bproperty.com/en/property/details-4851836.html",
         "August 11, 2022",
         "18000",
         "Mohammadpur",
         "Dhaka"
        ],
        [
         "38",
         "Visit This Apartment For Rent Of 2400 Sq Ft In Gulshan",
         "3",
         "3",
         "2400",
         "Gulshan 2, Gulshan, Dhaka",
         "Apartment",
         "For Rent",
         "https://images-cdn.bproperty.com/thumbnails/779564-400x300.webp",
         "https://www.bproperty.com/en/property/details-1869015.html",
         "February 12, 2023",
         "150000",
         "Gulshan",
         "Dhaka"
        ],
        [
         "39",
         "A Small 500 Sq Ft 1-bedroom Apartment For Rent In Mohammadi Housing Ltd.",
         "1",
         "1",
         "500",
         "Mohammadi Housing LTD., Mohammadpur, Dhaka",
         "Apartment",
         "For Rent",
         "https://images-cdn.bproperty.com/thumbnails/1570593-400x300.webp",
         "https://www.bproperty.com/en/property/details-1957286.html",
         "February 20, 2023",
         "10000",
         "Mohammadpur",
         "Dhaka"
        ],
        [
         "40",
         "In The Location Of Banani An Excellent Flat Of 1650 Sq Ft Is Waiting For Rent",
         "3",
         "3",
         "1650",
         "Banani, Dhaka",
         "Apartment",
         "For Rent",
         "https://images-cdn.bproperty.com/thumbnails/1325036-240x180.webp",
         "https://www.bproperty.com/en/property/details-5274187.html",
         "February 10, 2023",
         "85000",
         "Banani",
         "Dhaka"
        ],
        [
         "41",
         "Grab This 1700 Sq Ft Apartment For Rent In Mirpur, Section-2",
         "4",
         "3",
         "1700",
         "Block D, Section 2, Mirpur, Dhaka",
         "Apartment",
         "For Rent",
         "https://images-cdn.bproperty.com/thumbnails/1562154-400x300.webp",
         "https://www.bproperty.com/en/property/details-3035799.html",
         "February 22, 2023",
         "30000",
         "Mirpur",
         "Dhaka"
        ],
        [
         "43",
         "Affordable And Beautiful Flat Is Up For Rent In West Rampura Which Is 2300 Sq Ft",
         "4",
         "4",
         "2300",
         "Block D, Mohanagar Housing, West Rampura, Rampura, Dhaka",
         "Apartment",
         "For Rent",
         "https://images-cdn.bproperty.com/thumbnails/1573675-240x180.webp",
         "https://www.bproperty.com/en/property/details-5554033.html",
         "February 12, 2023",
         "43000",
         "Rampura",
         "Dhaka"
        ],
        [
         "44",
         "Let Us Help You To Rent This 1250 Sq Ft Apartment Which Is Now Available In Bashundhara R-A",
         "3",
         "3",
         "1250",
         "Block K, Bashundhara R-A, Dhaka",
         "Apartment",
         "For Rent",
         "https://images-cdn.bproperty.com/thumbnails/1568736-240x180.webp",
         "https://www.bproperty.com/en/property/details-5370545.html",
         "January 2, 2023",
         "21000",
         "Bashundhara R-A",
         "Dhaka"
        ],
        [
         "45",
         "Impressively Done, Large 4350 Sq Ft Rental Residential Duplex Is In The Center Of Uttara, Sector 13",
         "5",
         "6",
         "4350",
         "Sector 13, Uttara, Dhaka",
         "Duplex",
         "For Rent",
         "https://images-cdn.bproperty.com/thumbnails/1496925-240x180.webp",
         "https://www.bproperty.com/en/property/details-3096458.html",
         "February 5, 2022",
         "110000",
         "Uttara",
         "Dhaka"
        ],
        [
         "46",
         "Comfortable and well designed flat of 3200 SQ FT in Bashundhara R/A Block C for rent, near Mridha Bari Jame Mosjid",
         "4",
         "5",
         "3200",
         "Block C, Bashundhara R-A, Dhaka",
         "Apartment",
         "For Rent",
         "https://images-cdn.bproperty.com/thumbnails/520548-400x300.webp",
         "https://www.bproperty.com/en/property/details-1772824.html",
         "February 12, 2023",
         "100000",
         "Bashundhara R-A",
         "Dhaka"
        ],
        [
         "48",
         "Nice Flat Can Be Found In Kalabagan For Rent, Near Bashir Uddin Jame Mosque.",
         "3",
         "4",
         "2000",
         "Kalabagan, Dhaka",
         "Apartment",
         "For Rent",
         "https://images-cdn.bproperty.com/thumbnails/45850-240x180.webp",
         "https://www.bproperty.com/en/property/details-1911186.html",
         "February 14, 2023",
         "45000",
         "Kalabagan",
         "Dhaka"
        ],
        [
         "49",
         "A Decent 1200 Sq Ft Flat Is Now To Rent In Mohammadpur",
         "3",
         "3",
         "1200",
         "Mohammadia Housing Society, Mohammadpur, Dhaka",
         "Apartment",
         "For Rent",
         "https://images-cdn.bproperty.com/thumbnails/1567039-400x300.webp",
         "https://www.bproperty.com/en/property/details-4648875.html",
         "February 19, 2023",
         "25000",
         "Mohammadpur",
         "Dhaka"
        ],
        [
         "50",
         "Take This Rental Property Of 2300 Sq Ft Which Is Vacant Right Now At Bashundhara R-a",
         "4",
         "4",
         "2300",
         "Block F, Bashundhara R-A, Dhaka",
         "Apartment",
         "For Rent",
         "https://images-cdn.bproperty.com/thumbnails/297515-400x300.webp",
         "https://www.bproperty.com/en/property/details-3068821.html",
         "September 21, 2021",
         "55000",
         "Bashundhara R-A",
         "Dhaka"
        ],
        [
         "51",
         "A Nice House Is Available For Rent At Kafrul, With An Affordable Deal.",
         "4",
         "3",
         "1800",
         "Kafrul, Dhaka",
         "Apartment",
         "For Rent",
         "https://images-cdn.bproperty.com/thumbnails/297515-400x300.webp",
         "https://www.bproperty.com/en/property/details-4015348.html",
         "November 3, 2022",
         "40000",
         "Kafrul",
         "Dhaka"
        ],
        [
         "52",
         "A Well Defined Residential Flat Of 800 Sq Ft Is Available For rent In Mohakhali Dohs, Near Canadian Institute Of Global Learning, Bangladesh",
         "2",
         "2",
         "800",
         "Mohakhali DOHS, Dhaka",
         "Apartment",
         "For Rent",
         "https://images-cdn.bproperty.com/thumbnails/311016-400x300.webp",
         "https://www.bproperty.com/en/property/details-1770277.html",
         "February 14, 2023",
         "35000",
         "Mohakhali DOHS",
         "Dhaka"
        ],
        [
         "53",
         "A 2146 Sq. Ft Spacious Flat In Uttara, Sector 13 Is Now For Rent",
         "3",
         "4",
         "2146",
         "Sector 13, Uttara, Dhaka",
         "Apartment",
         "For Rent",
         "https://images-cdn.bproperty.com/thumbnails/934786-240x180.webp",
         "https://www.bproperty.com/en/property/details-2059683.html",
         "January 30, 2022",
         "55000",
         "Uttara",
         "Dhaka"
        ],
        [
         "55",
         "Check This Apartment Up For Rent At Uttara Near EXIM Bank Limited.",
         "3",
         "3",
         "1500",
         "Sector 4, Uttara, Dhaka",
         "Apartment",
         "For Rent",
         "https://images-cdn.bproperty.com/thumbnails/1548808-240x180.webp",
         "https://www.bproperty.com/en/property/details-1931206.html",
         "August 24, 2022",
         "35000",
         "Uttara",
         "Dhaka"
        ],
        [
         "56",
         "An Apartment Is Ready For Rent At Mohammadpur , Near Mohammadpur Baitur Rahman Jame Masjid.",
         "2",
         "2",
         "700",
         "Mohammadpur, Dhaka",
         "Apartment",
         "For Rent",
         "https://images-cdn.bproperty.com/thumbnails/1567039-400x300.webp",
         "https://www.bproperty.com/en/property/details-1933212.html",
         "August 20, 2022",
         "16000",
         "Mohammadpur",
         "Dhaka"
        ]
       ],
       "shape": {
        "columns": 13,
        "rows": 5332
       }
      },
      "text/html": [
       "<div>\n",
       "<style scoped>\n",
       "    .dataframe tbody tr th:only-of-type {\n",
       "        vertical-align: middle;\n",
       "    }\n",
       "\n",
       "    .dataframe tbody tr th {\n",
       "        vertical-align: top;\n",
       "    }\n",
       "\n",
       "    .dataframe thead th {\n",
       "        text-align: right;\n",
       "    }\n",
       "</style>\n",
       "<table border=\"1\" class=\"dataframe\">\n",
       "  <thead>\n",
       "    <tr style=\"text-align: right;\">\n",
       "      <th></th>\n",
       "      <th>title</th>\n",
       "      <th>beds</th>\n",
       "      <th>bath</th>\n",
       "      <th>area</th>\n",
       "      <th>adress</th>\n",
       "      <th>type</th>\n",
       "      <th>purpose</th>\n",
       "      <th>flooPlan</th>\n",
       "      <th>url</th>\n",
       "      <th>lastUpdated</th>\n",
       "      <th>price</th>\n",
       "      <th>neighborhood</th>\n",
       "      <th>city</th>\n",
       "    </tr>\n",
       "  </thead>\n",
       "  <tbody>\n",
       "    <tr>\n",
       "      <th>0</th>\n",
       "      <td>Eminent Apartment Of 2200 Sq Ft Is Vacant For ...</td>\n",
       "      <td>3</td>\n",
       "      <td>4</td>\n",
       "      <td>2200</td>\n",
       "      <td>Block A, Bashundhara R-A, Dhaka</td>\n",
       "      <td>Apartment</td>\n",
       "      <td>For Rent</td>\n",
       "      <td>https://images-cdn.bproperty.com/thumbnails/10...</td>\n",
       "      <td>https://www.bproperty.com/en/property/details-...</td>\n",
       "      <td>August 13, 2022</td>\n",
       "      <td>50000</td>\n",
       "      <td>Bashundhara R-A</td>\n",
       "      <td>Dhaka</td>\n",
       "    </tr>\n",
       "    <tr>\n",
       "      <th>2</th>\n",
       "      <td>Smartly priced 1950 SQ FT apartment, that you ...</td>\n",
       "      <td>3</td>\n",
       "      <td>4</td>\n",
       "      <td>1950</td>\n",
       "      <td>Block F, Bashundhara R-A, Dhaka</td>\n",
       "      <td>Apartment</td>\n",
       "      <td>For Rent</td>\n",
       "      <td>https://images-cdn.bproperty.com/thumbnails/11...</td>\n",
       "      <td>https://www.bproperty.com/en/property/details-...</td>\n",
       "      <td>February 22, 2023</td>\n",
       "      <td>30000</td>\n",
       "      <td>Bashundhara R-A</td>\n",
       "      <td>Dhaka</td>\n",
       "    </tr>\n",
       "    <tr>\n",
       "      <th>3</th>\n",
       "      <td>2000 Sq Ft Residential Apartment Is Up For Ren...</td>\n",
       "      <td>3</td>\n",
       "      <td>3</td>\n",
       "      <td>2000</td>\n",
       "      <td>Sector 9, Uttara, Dhaka</td>\n",
       "      <td>Apartment</td>\n",
       "      <td>For Rent</td>\n",
       "      <td>https://images-cdn.bproperty.com/thumbnails/14...</td>\n",
       "      <td>https://www.bproperty.com/en/property/details-...</td>\n",
       "      <td>October 28, 2021</td>\n",
       "      <td>35000</td>\n",
       "      <td>Uttara</td>\n",
       "      <td>Dhaka</td>\n",
       "    </tr>\n",
       "    <tr>\n",
       "      <th>4</th>\n",
       "      <td>Strongly Structured This 1650 Sq. ft Apartment...</td>\n",
       "      <td>3</td>\n",
       "      <td>4</td>\n",
       "      <td>1650</td>\n",
       "      <td>Block I, Bashundhara R-A, Dhaka</td>\n",
       "      <td>Apartment</td>\n",
       "      <td>For Rent</td>\n",
       "      <td>https://images-cdn.bproperty.com/thumbnails/10...</td>\n",
       "      <td>https://www.bproperty.com/en/property/details-...</td>\n",
       "      <td>February 19, 2023</td>\n",
       "      <td>25000</td>\n",
       "      <td>Bashundhara R-A</td>\n",
       "      <td>Dhaka</td>\n",
       "    </tr>\n",
       "    <tr>\n",
       "      <th>5</th>\n",
       "      <td>A nice residential flat of 3400 SQ FT, for ren...</td>\n",
       "      <td>5</td>\n",
       "      <td>5</td>\n",
       "      <td>3400</td>\n",
       "      <td>Gulshan 1, Gulshan, Dhaka</td>\n",
       "      <td>Apartment</td>\n",
       "      <td>For Rent</td>\n",
       "      <td>https://images-cdn.bproperty.com/thumbnails/15...</td>\n",
       "      <td>https://www.bproperty.com/en/property/details-...</td>\n",
       "      <td>February 14, 2023</td>\n",
       "      <td>110000</td>\n",
       "      <td>Gulshan</td>\n",
       "      <td>Dhaka</td>\n",
       "    </tr>\n",
       "    <tr>\n",
       "      <th>...</th>\n",
       "      <td>...</td>\n",
       "      <td>...</td>\n",
       "      <td>...</td>\n",
       "      <td>...</td>\n",
       "      <td>...</td>\n",
       "      <td>...</td>\n",
       "      <td>...</td>\n",
       "      <td>...</td>\n",
       "      <td>...</td>\n",
       "      <td>...</td>\n",
       "      <td>...</td>\n",
       "      <td>...</td>\n",
       "      <td>...</td>\n",
       "    </tr>\n",
       "    <tr>\n",
       "      <th>7552</th>\n",
       "      <td>Picture Yourself, Residing In This Well Constr...</td>\n",
       "      <td>4</td>\n",
       "      <td>4</td>\n",
       "      <td>3600</td>\n",
       "      <td>Sector 3, Uttara, Dhaka</td>\n",
       "      <td>Duplex</td>\n",
       "      <td>For Rent</td>\n",
       "      <td>https://images-cdn.bproperty.com/thumbnails/15...</td>\n",
       "      <td>https://www.bproperty.com/en/property/details-...</td>\n",
       "      <td>February 7, 2023</td>\n",
       "      <td>80000</td>\n",
       "      <td>Uttara</td>\n",
       "      <td>Dhaka</td>\n",
       "    </tr>\n",
       "    <tr>\n",
       "      <th>7553</th>\n",
       "      <td>Flat For Rent In Uttara Sector 13 Near Lubana ...</td>\n",
       "      <td>3</td>\n",
       "      <td>2</td>\n",
       "      <td>900</td>\n",
       "      <td>Sector 13, Uttara, Dhaka</td>\n",
       "      <td>Apartment</td>\n",
       "      <td>For Rent</td>\n",
       "      <td>https://images-cdn.bproperty.com/thumbnails/15...</td>\n",
       "      <td>https://www.bproperty.com/en/property/details-...</td>\n",
       "      <td>February 9, 2022</td>\n",
       "      <td>19000</td>\n",
       "      <td>Uttara</td>\n",
       "      <td>Dhaka</td>\n",
       "    </tr>\n",
       "    <tr>\n",
       "      <th>7554</th>\n",
       "      <td>1000 SQ FT flat for rent in Uttara Sector 13 n...</td>\n",
       "      <td>2</td>\n",
       "      <td>2</td>\n",
       "      <td>1000</td>\n",
       "      <td>Sector 13, Uttara, Dhaka</td>\n",
       "      <td>Apartment</td>\n",
       "      <td>For Rent</td>\n",
       "      <td>https://images-cdn.bproperty.com/thumbnails/12...</td>\n",
       "      <td>https://www.bproperty.com/en/property/details-...</td>\n",
       "      <td>February 14, 2022</td>\n",
       "      <td>22000</td>\n",
       "      <td>Uttara</td>\n",
       "      <td>Dhaka</td>\n",
       "    </tr>\n",
       "    <tr>\n",
       "      <th>7555</th>\n",
       "      <td>Well Planned Apartment For Rent In Gulshan 1 N...</td>\n",
       "      <td>3</td>\n",
       "      <td>4</td>\n",
       "      <td>3600</td>\n",
       "      <td>Gulshan 1, Gulshan, Dhaka</td>\n",
       "      <td>Apartment</td>\n",
       "      <td>For Rent</td>\n",
       "      <td>https://images-cdn.bproperty.com/thumbnails/30...</td>\n",
       "      <td>https://www.bproperty.com/en/property/details-...</td>\n",
       "      <td>February 7, 2023</td>\n",
       "      <td>175000</td>\n",
       "      <td>Gulshan</td>\n",
       "      <td>Dhaka</td>\n",
       "    </tr>\n",
       "    <tr>\n",
       "      <th>7556</th>\n",
       "      <td>An Apartment Is Ready For Rent At Baridhara DO...</td>\n",
       "      <td>4</td>\n",
       "      <td>4</td>\n",
       "      <td>2600</td>\n",
       "      <td>Baridhara DOHS, Dhaka</td>\n",
       "      <td>Apartment</td>\n",
       "      <td>For Rent</td>\n",
       "      <td>https://images-cdn.bproperty.com/thumbnails/15...</td>\n",
       "      <td>https://www.bproperty.com/en/property/details-...</td>\n",
       "      <td>November 22, 2021</td>\n",
       "      <td>90000</td>\n",
       "      <td>Baridhara DOHS</td>\n",
       "      <td>Dhaka</td>\n",
       "    </tr>\n",
       "  </tbody>\n",
       "</table>\n",
       "<p>5332 rows × 13 columns</p>\n",
       "</div>"
      ],
      "text/plain": [
       "                                                  title  beds  bath  area  \\\n",
       "0     Eminent Apartment Of 2200 Sq Ft Is Vacant For ...     3     4  2200   \n",
       "2     Smartly priced 1950 SQ FT apartment, that you ...     3     4  1950   \n",
       "3     2000 Sq Ft Residential Apartment Is Up For Ren...     3     3  2000   \n",
       "4     Strongly Structured This 1650 Sq. ft Apartment...     3     4  1650   \n",
       "5     A nice residential flat of 3400 SQ FT, for ren...     5     5  3400   \n",
       "...                                                 ...   ...   ...   ...   \n",
       "7552  Picture Yourself, Residing In This Well Constr...     4     4  3600   \n",
       "7553  Flat For Rent In Uttara Sector 13 Near Lubana ...     3     2   900   \n",
       "7554  1000 SQ FT flat for rent in Uttara Sector 13 n...     2     2  1000   \n",
       "7555  Well Planned Apartment For Rent In Gulshan 1 N...     3     4  3600   \n",
       "7556  An Apartment Is Ready For Rent At Baridhara DO...     4     4  2600   \n",
       "\n",
       "                               adress       type   purpose  \\\n",
       "0     Block A, Bashundhara R-A, Dhaka  Apartment  For Rent   \n",
       "2     Block F, Bashundhara R-A, Dhaka  Apartment  For Rent   \n",
       "3             Sector 9, Uttara, Dhaka  Apartment  For Rent   \n",
       "4     Block I, Bashundhara R-A, Dhaka  Apartment  For Rent   \n",
       "5           Gulshan 1, Gulshan, Dhaka  Apartment  For Rent   \n",
       "...                               ...        ...       ...   \n",
       "7552          Sector 3, Uttara, Dhaka     Duplex  For Rent   \n",
       "7553         Sector 13, Uttara, Dhaka  Apartment  For Rent   \n",
       "7554         Sector 13, Uttara, Dhaka  Apartment  For Rent   \n",
       "7555        Gulshan 1, Gulshan, Dhaka  Apartment  For Rent   \n",
       "7556            Baridhara DOHS, Dhaka  Apartment  For Rent   \n",
       "\n",
       "                                               flooPlan  \\\n",
       "0     https://images-cdn.bproperty.com/thumbnails/10...   \n",
       "2     https://images-cdn.bproperty.com/thumbnails/11...   \n",
       "3     https://images-cdn.bproperty.com/thumbnails/14...   \n",
       "4     https://images-cdn.bproperty.com/thumbnails/10...   \n",
       "5     https://images-cdn.bproperty.com/thumbnails/15...   \n",
       "...                                                 ...   \n",
       "7552  https://images-cdn.bproperty.com/thumbnails/15...   \n",
       "7553  https://images-cdn.bproperty.com/thumbnails/15...   \n",
       "7554  https://images-cdn.bproperty.com/thumbnails/12...   \n",
       "7555  https://images-cdn.bproperty.com/thumbnails/30...   \n",
       "7556  https://images-cdn.bproperty.com/thumbnails/15...   \n",
       "\n",
       "                                                    url        lastUpdated  \\\n",
       "0     https://www.bproperty.com/en/property/details-...    August 13, 2022   \n",
       "2     https://www.bproperty.com/en/property/details-...  February 22, 2023   \n",
       "3     https://www.bproperty.com/en/property/details-...   October 28, 2021   \n",
       "4     https://www.bproperty.com/en/property/details-...  February 19, 2023   \n",
       "5     https://www.bproperty.com/en/property/details-...  February 14, 2023   \n",
       "...                                                 ...                ...   \n",
       "7552  https://www.bproperty.com/en/property/details-...   February 7, 2023   \n",
       "7553  https://www.bproperty.com/en/property/details-...   February 9, 2022   \n",
       "7554  https://www.bproperty.com/en/property/details-...  February 14, 2022   \n",
       "7555  https://www.bproperty.com/en/property/details-...   February 7, 2023   \n",
       "7556  https://www.bproperty.com/en/property/details-...  November 22, 2021   \n",
       "\n",
       "       price     neighborhood   city  \n",
       "0      50000  Bashundhara R-A  Dhaka  \n",
       "2      30000  Bashundhara R-A  Dhaka  \n",
       "3      35000           Uttara  Dhaka  \n",
       "4      25000  Bashundhara R-A  Dhaka  \n",
       "5     110000          Gulshan  Dhaka  \n",
       "...      ...              ...    ...  \n",
       "7552   80000           Uttara  Dhaka  \n",
       "7553   19000           Uttara  Dhaka  \n",
       "7554   22000           Uttara  Dhaka  \n",
       "7555  175000          Gulshan  Dhaka  \n",
       "7556   90000   Baridhara DOHS  Dhaka  \n",
       "\n",
       "[5332 rows x 13 columns]"
      ]
     },
     "execution_count": 9,
     "metadata": {},
     "output_type": "execute_result"
    }
   ],
   "source": [
    "df_property['city'] = df_property['adress'].apply(lambda x: x.split(',')[-1].strip())\n",
    "df_property = df_property[df_property['city']!='Chattogram']\n",
    "df_property"
   ]
  },
  {
   "cell_type": "code",
   "execution_count": 10,
   "id": "e95d68ed",
   "metadata": {},
   "outputs": [
    {
     "data": {
      "application/vnd.microsoft.datawrangler.viewer.v0+json": {
       "columns": [
        {
         "name": "index",
         "rawType": "int64",
         "type": "integer"
        },
        {
         "name": "beds",
         "rawType": "int32",
         "type": "integer"
        },
        {
         "name": "bath",
         "rawType": "int32",
         "type": "integer"
        },
        {
         "name": "area",
         "rawType": "int32",
         "type": "integer"
        },
        {
         "name": "neighborhood",
         "rawType": "object",
         "type": "string"
        },
        {
         "name": "price",
         "rawType": "int64",
         "type": "integer"
        }
       ],
       "ref": "d6c2613b-67d9-4c05-83ce-10b5776063d7",
       "rows": [
        [
         "0",
         "3",
         "4",
         "2200",
         "Bashundhara R-A",
         "50000"
        ],
        [
         "2",
         "3",
         "4",
         "1950",
         "Bashundhara R-A",
         "30000"
        ],
        [
         "3",
         "3",
         "3",
         "2000",
         "Uttara",
         "35000"
        ],
        [
         "4",
         "3",
         "4",
         "1650",
         "Bashundhara R-A",
         "25000"
        ],
        [
         "5",
         "5",
         "5",
         "3400",
         "Gulshan",
         "110000"
        ],
        [
         "6",
         "3",
         "3",
         "1600",
         "Uttara",
         "35000"
        ],
        [
         "7",
         "3",
         "3",
         "1250",
         "Bashundhara R-A",
         "23000"
        ],
        [
         "8",
         "3",
         "4",
         "2150",
         "Uttara",
         "40000"
        ],
        [
         "9",
         "3",
         "3",
         "1250",
         "Bashundhara R-A",
         "23000"
        ],
        [
         "10",
         "3",
         "3",
         "1250",
         "Bashundhara R-A",
         "23000"
        ],
        [
         "12",
         "4",
         "4",
         "3200",
         "Gulshan",
         "250000"
        ],
        [
         "13",
         "3",
         "3",
         "3000",
         "Gulshan",
         "120000"
        ],
        [
         "14",
         "3",
         "3",
         "1250",
         "Bashundhara R-A",
         "21000"
        ],
        [
         "15",
         "3",
         "4",
         "1800",
         "Uttara",
         "60000"
        ],
        [
         "16",
         "3",
         "3",
         "1250",
         "Bashundhara R-A",
         "21000"
        ],
        [
         "17",
         "3",
         "3",
         "2000",
         "Bashundhara R-A",
         "40000"
        ],
        [
         "18",
         "3",
         "4",
         "1750",
         "Bashundhara R-A",
         "30000"
        ],
        [
         "19",
         "3",
         "3",
         "1250",
         "Bashundhara R-A",
         "23000"
        ],
        [
         "20",
         "3",
         "3",
         "1250",
         "Bashundhara R-A",
         "23000"
        ],
        [
         "21",
         "3",
         "3",
         "1310",
         "Khilgaon",
         "28000"
        ],
        [
         "22",
         "3",
         "3",
         "1250",
         "Bashundhara R-A",
         "21000"
        ],
        [
         "23",
         "3",
         "4",
         "2200",
         "Uttara",
         "60000"
        ],
        [
         "24",
         "3",
         "4",
         "1700",
         "Banani",
         "75000"
        ],
        [
         "25",
         "4",
         "4",
         "2750",
         "Dhanmondi",
         "120000"
        ],
        [
         "26",
         "3",
         "2",
         "1400",
         "Dhanmondi",
         "28000"
        ],
        [
         "27",
         "4",
         "4",
         "2500",
         "Baridhara",
         "55000"
        ],
        [
         "28",
         "1",
         "1",
         "550",
         "Mirpur",
         "12000"
        ],
        [
         "29",
         "3",
         "2",
         "1050",
         "Rampura",
         "21000"
        ],
        [
         "31",
         "3",
         "3",
         "1250",
         "Bashundhara R-A",
         "23000"
        ],
        [
         "32",
         "4",
         "5",
         "3590",
         "Banani DOHS",
         "200000"
        ],
        [
         "33",
         "3",
         "3",
         "1250",
         "Bashundhara R-A",
         "21000"
        ],
        [
         "35",
         "3",
         "3",
         "1250",
         "Bashundhara R-A",
         "20000"
        ],
        [
         "36",
         "1",
         "1",
         "400",
         "Khilkhet",
         "10000"
        ],
        [
         "37",
         "3",
         "3",
         "1250",
         "Mohammadpur",
         "18000"
        ],
        [
         "38",
         "3",
         "3",
         "2400",
         "Gulshan",
         "150000"
        ],
        [
         "39",
         "1",
         "1",
         "500",
         "Mohammadpur",
         "10000"
        ],
        [
         "40",
         "3",
         "3",
         "1650",
         "Banani",
         "85000"
        ],
        [
         "41",
         "4",
         "3",
         "1700",
         "Mirpur",
         "30000"
        ],
        [
         "43",
         "4",
         "4",
         "2300",
         "Rampura",
         "43000"
        ],
        [
         "44",
         "3",
         "3",
         "1250",
         "Bashundhara R-A",
         "21000"
        ],
        [
         "45",
         "5",
         "6",
         "4350",
         "Uttara",
         "110000"
        ],
        [
         "46",
         "4",
         "5",
         "3200",
         "Bashundhara R-A",
         "100000"
        ],
        [
         "48",
         "3",
         "4",
         "2000",
         "Kalabagan",
         "45000"
        ],
        [
         "49",
         "3",
         "3",
         "1200",
         "Mohammadpur",
         "25000"
        ],
        [
         "50",
         "4",
         "4",
         "2300",
         "Bashundhara R-A",
         "55000"
        ],
        [
         "51",
         "4",
         "3",
         "1800",
         "Kafrul",
         "40000"
        ],
        [
         "52",
         "2",
         "2",
         "800",
         "Mohakhali DOHS",
         "35000"
        ],
        [
         "53",
         "3",
         "4",
         "2146",
         "Uttara",
         "55000"
        ],
        [
         "55",
         "3",
         "3",
         "1500",
         "Uttara",
         "35000"
        ],
        [
         "56",
         "2",
         "2",
         "700",
         "Mohammadpur",
         "16000"
        ]
       ],
       "shape": {
        "columns": 5,
        "rows": 5332
       }
      },
      "text/html": [
       "<div>\n",
       "<style scoped>\n",
       "    .dataframe tbody tr th:only-of-type {\n",
       "        vertical-align: middle;\n",
       "    }\n",
       "\n",
       "    .dataframe tbody tr th {\n",
       "        vertical-align: top;\n",
       "    }\n",
       "\n",
       "    .dataframe thead th {\n",
       "        text-align: right;\n",
       "    }\n",
       "</style>\n",
       "<table border=\"1\" class=\"dataframe\">\n",
       "  <thead>\n",
       "    <tr style=\"text-align: right;\">\n",
       "      <th></th>\n",
       "      <th>beds</th>\n",
       "      <th>bath</th>\n",
       "      <th>area</th>\n",
       "      <th>neighborhood</th>\n",
       "      <th>price</th>\n",
       "    </tr>\n",
       "  </thead>\n",
       "  <tbody>\n",
       "    <tr>\n",
       "      <th>0</th>\n",
       "      <td>3</td>\n",
       "      <td>4</td>\n",
       "      <td>2200</td>\n",
       "      <td>Bashundhara R-A</td>\n",
       "      <td>50000</td>\n",
       "    </tr>\n",
       "    <tr>\n",
       "      <th>2</th>\n",
       "      <td>3</td>\n",
       "      <td>4</td>\n",
       "      <td>1950</td>\n",
       "      <td>Bashundhara R-A</td>\n",
       "      <td>30000</td>\n",
       "    </tr>\n",
       "    <tr>\n",
       "      <th>3</th>\n",
       "      <td>3</td>\n",
       "      <td>3</td>\n",
       "      <td>2000</td>\n",
       "      <td>Uttara</td>\n",
       "      <td>35000</td>\n",
       "    </tr>\n",
       "    <tr>\n",
       "      <th>4</th>\n",
       "      <td>3</td>\n",
       "      <td>4</td>\n",
       "      <td>1650</td>\n",
       "      <td>Bashundhara R-A</td>\n",
       "      <td>25000</td>\n",
       "    </tr>\n",
       "    <tr>\n",
       "      <th>5</th>\n",
       "      <td>5</td>\n",
       "      <td>5</td>\n",
       "      <td>3400</td>\n",
       "      <td>Gulshan</td>\n",
       "      <td>110000</td>\n",
       "    </tr>\n",
       "    <tr>\n",
       "      <th>...</th>\n",
       "      <td>...</td>\n",
       "      <td>...</td>\n",
       "      <td>...</td>\n",
       "      <td>...</td>\n",
       "      <td>...</td>\n",
       "    </tr>\n",
       "    <tr>\n",
       "      <th>7552</th>\n",
       "      <td>4</td>\n",
       "      <td>4</td>\n",
       "      <td>3600</td>\n",
       "      <td>Uttara</td>\n",
       "      <td>80000</td>\n",
       "    </tr>\n",
       "    <tr>\n",
       "      <th>7553</th>\n",
       "      <td>3</td>\n",
       "      <td>2</td>\n",
       "      <td>900</td>\n",
       "      <td>Uttara</td>\n",
       "      <td>19000</td>\n",
       "    </tr>\n",
       "    <tr>\n",
       "      <th>7554</th>\n",
       "      <td>2</td>\n",
       "      <td>2</td>\n",
       "      <td>1000</td>\n",
       "      <td>Uttara</td>\n",
       "      <td>22000</td>\n",
       "    </tr>\n",
       "    <tr>\n",
       "      <th>7555</th>\n",
       "      <td>3</td>\n",
       "      <td>4</td>\n",
       "      <td>3600</td>\n",
       "      <td>Gulshan</td>\n",
       "      <td>175000</td>\n",
       "    </tr>\n",
       "    <tr>\n",
       "      <th>7556</th>\n",
       "      <td>4</td>\n",
       "      <td>4</td>\n",
       "      <td>2600</td>\n",
       "      <td>Baridhara DOHS</td>\n",
       "      <td>90000</td>\n",
       "    </tr>\n",
       "  </tbody>\n",
       "</table>\n",
       "<p>5332 rows × 5 columns</p>\n",
       "</div>"
      ],
      "text/plain": [
       "      beds  bath  area     neighborhood   price\n",
       "0        3     4  2200  Bashundhara R-A   50000\n",
       "2        3     4  1950  Bashundhara R-A   30000\n",
       "3        3     3  2000           Uttara   35000\n",
       "4        3     4  1650  Bashundhara R-A   25000\n",
       "5        5     5  3400          Gulshan  110000\n",
       "...    ...   ...   ...              ...     ...\n",
       "7552     4     4  3600           Uttara   80000\n",
       "7553     3     2   900           Uttara   19000\n",
       "7554     2     2  1000           Uttara   22000\n",
       "7555     3     4  3600          Gulshan  175000\n",
       "7556     4     4  2600   Baridhara DOHS   90000\n",
       "\n",
       "[5332 rows x 5 columns]"
      ]
     },
     "execution_count": 10,
     "metadata": {},
     "output_type": "execute_result"
    }
   ],
   "source": [
    "df_cleaned = df_property[['beds', 'bath', 'area', 'neighborhood', 'price']].copy()\n",
    "df_cleaned"
   ]
  },
  {
   "cell_type": "code",
   "execution_count": 11,
   "id": "22c2254e",
   "metadata": {},
   "outputs": [
    {
     "data": {
      "application/vnd.microsoft.datawrangler.viewer.v0+json": {
       "columns": [
        {
         "name": "index",
         "rawType": "int64",
         "type": "integer"
        },
        {
         "name": "beds",
         "rawType": "int32",
         "type": "integer"
        },
        {
         "name": "bath",
         "rawType": "int32",
         "type": "integer"
        },
        {
         "name": "area",
         "rawType": "int32",
         "type": "integer"
        },
        {
         "name": "neighborhood",
         "rawType": "object",
         "type": "string"
        },
        {
         "name": "price",
         "rawType": "int64",
         "type": "integer"
        }
       ],
       "ref": "8947b9d9-a565-4919-8ee2-4ebf23bd1a96",
       "rows": [
        [
         "0",
         "3",
         "4",
         "2200",
         "Bashundhara R-A",
         "50000"
        ],
        [
         "2",
         "3",
         "4",
         "1950",
         "Bashundhara R-A",
         "30000"
        ],
        [
         "3",
         "3",
         "3",
         "2000",
         "Uttara",
         "35000"
        ],
        [
         "4",
         "3",
         "4",
         "1650",
         "Bashundhara R-A",
         "25000"
        ],
        [
         "5",
         "5",
         "5",
         "3400",
         "Gulshan",
         "110000"
        ],
        [
         "6",
         "3",
         "3",
         "1600",
         "Uttara",
         "35000"
        ],
        [
         "7",
         "3",
         "3",
         "1250",
         "Bashundhara R-A",
         "23000"
        ],
        [
         "8",
         "3",
         "4",
         "2150",
         "Uttara",
         "40000"
        ],
        [
         "9",
         "3",
         "3",
         "1250",
         "Bashundhara R-A",
         "23000"
        ],
        [
         "10",
         "3",
         "3",
         "1250",
         "Bashundhara R-A",
         "23000"
        ],
        [
         "12",
         "4",
         "4",
         "3200",
         "Gulshan",
         "250000"
        ],
        [
         "13",
         "3",
         "3",
         "3000",
         "Gulshan",
         "120000"
        ],
        [
         "14",
         "3",
         "3",
         "1250",
         "Bashundhara R-A",
         "21000"
        ],
        [
         "15",
         "3",
         "4",
         "1800",
         "Uttara",
         "60000"
        ],
        [
         "16",
         "3",
         "3",
         "1250",
         "Bashundhara R-A",
         "21000"
        ],
        [
         "17",
         "3",
         "3",
         "2000",
         "Bashundhara R-A",
         "40000"
        ],
        [
         "18",
         "3",
         "4",
         "1750",
         "Bashundhara R-A",
         "30000"
        ],
        [
         "19",
         "3",
         "3",
         "1250",
         "Bashundhara R-A",
         "23000"
        ],
        [
         "20",
         "3",
         "3",
         "1250",
         "Bashundhara R-A",
         "23000"
        ],
        [
         "21",
         "3",
         "3",
         "1310",
         "Khilgaon",
         "28000"
        ],
        [
         "22",
         "3",
         "3",
         "1250",
         "Bashundhara R-A",
         "21000"
        ],
        [
         "23",
         "3",
         "4",
         "2200",
         "Uttara",
         "60000"
        ],
        [
         "24",
         "3",
         "4",
         "1700",
         "Banani",
         "75000"
        ],
        [
         "25",
         "4",
         "4",
         "2750",
         "Dhanmondi",
         "120000"
        ],
        [
         "26",
         "3",
         "2",
         "1400",
         "Dhanmondi",
         "28000"
        ],
        [
         "27",
         "4",
         "4",
         "2500",
         "Baridhara",
         "55000"
        ],
        [
         "28",
         "1",
         "1",
         "550",
         "Mirpur",
         "12000"
        ],
        [
         "29",
         "3",
         "2",
         "1050",
         "Rampura",
         "21000"
        ],
        [
         "31",
         "3",
         "3",
         "1250",
         "Bashundhara R-A",
         "23000"
        ],
        [
         "32",
         "4",
         "5",
         "3590",
         "Other",
         "200000"
        ],
        [
         "33",
         "3",
         "3",
         "1250",
         "Bashundhara R-A",
         "21000"
        ],
        [
         "35",
         "3",
         "3",
         "1250",
         "Bashundhara R-A",
         "20000"
        ],
        [
         "36",
         "1",
         "1",
         "400",
         "Khilkhet",
         "10000"
        ],
        [
         "37",
         "3",
         "3",
         "1250",
         "Mohammadpur",
         "18000"
        ],
        [
         "38",
         "3",
         "3",
         "2400",
         "Gulshan",
         "150000"
        ],
        [
         "39",
         "1",
         "1",
         "500",
         "Mohammadpur",
         "10000"
        ],
        [
         "40",
         "3",
         "3",
         "1650",
         "Banani",
         "85000"
        ],
        [
         "41",
         "4",
         "3",
         "1700",
         "Mirpur",
         "30000"
        ],
        [
         "43",
         "4",
         "4",
         "2300",
         "Rampura",
         "43000"
        ],
        [
         "44",
         "3",
         "3",
         "1250",
         "Bashundhara R-A",
         "21000"
        ],
        [
         "45",
         "5",
         "6",
         "4350",
         "Uttara",
         "110000"
        ],
        [
         "46",
         "4",
         "5",
         "3200",
         "Bashundhara R-A",
         "100000"
        ],
        [
         "48",
         "3",
         "4",
         "2000",
         "Other",
         "45000"
        ],
        [
         "49",
         "3",
         "3",
         "1200",
         "Mohammadpur",
         "25000"
        ],
        [
         "50",
         "4",
         "4",
         "2300",
         "Bashundhara R-A",
         "55000"
        ],
        [
         "51",
         "4",
         "3",
         "1800",
         "Other",
         "40000"
        ],
        [
         "52",
         "2",
         "2",
         "800",
         "Other",
         "35000"
        ],
        [
         "53",
         "3",
         "4",
         "2146",
         "Uttara",
         "55000"
        ],
        [
         "55",
         "3",
         "3",
         "1500",
         "Uttara",
         "35000"
        ],
        [
         "56",
         "2",
         "2",
         "700",
         "Mohammadpur",
         "16000"
        ]
       ],
       "shape": {
        "columns": 5,
        "rows": 5332
       }
      },
      "text/html": [
       "<div>\n",
       "<style scoped>\n",
       "    .dataframe tbody tr th:only-of-type {\n",
       "        vertical-align: middle;\n",
       "    }\n",
       "\n",
       "    .dataframe tbody tr th {\n",
       "        vertical-align: top;\n",
       "    }\n",
       "\n",
       "    .dataframe thead th {\n",
       "        text-align: right;\n",
       "    }\n",
       "</style>\n",
       "<table border=\"1\" class=\"dataframe\">\n",
       "  <thead>\n",
       "    <tr style=\"text-align: right;\">\n",
       "      <th></th>\n",
       "      <th>beds</th>\n",
       "      <th>bath</th>\n",
       "      <th>area</th>\n",
       "      <th>neighborhood</th>\n",
       "      <th>price</th>\n",
       "    </tr>\n",
       "  </thead>\n",
       "  <tbody>\n",
       "    <tr>\n",
       "      <th>0</th>\n",
       "      <td>3</td>\n",
       "      <td>4</td>\n",
       "      <td>2200</td>\n",
       "      <td>Bashundhara R-A</td>\n",
       "      <td>50000</td>\n",
       "    </tr>\n",
       "    <tr>\n",
       "      <th>2</th>\n",
       "      <td>3</td>\n",
       "      <td>4</td>\n",
       "      <td>1950</td>\n",
       "      <td>Bashundhara R-A</td>\n",
       "      <td>30000</td>\n",
       "    </tr>\n",
       "    <tr>\n",
       "      <th>3</th>\n",
       "      <td>3</td>\n",
       "      <td>3</td>\n",
       "      <td>2000</td>\n",
       "      <td>Uttara</td>\n",
       "      <td>35000</td>\n",
       "    </tr>\n",
       "    <tr>\n",
       "      <th>4</th>\n",
       "      <td>3</td>\n",
       "      <td>4</td>\n",
       "      <td>1650</td>\n",
       "      <td>Bashundhara R-A</td>\n",
       "      <td>25000</td>\n",
       "    </tr>\n",
       "    <tr>\n",
       "      <th>5</th>\n",
       "      <td>5</td>\n",
       "      <td>5</td>\n",
       "      <td>3400</td>\n",
       "      <td>Gulshan</td>\n",
       "      <td>110000</td>\n",
       "    </tr>\n",
       "    <tr>\n",
       "      <th>...</th>\n",
       "      <td>...</td>\n",
       "      <td>...</td>\n",
       "      <td>...</td>\n",
       "      <td>...</td>\n",
       "      <td>...</td>\n",
       "    </tr>\n",
       "    <tr>\n",
       "      <th>7552</th>\n",
       "      <td>4</td>\n",
       "      <td>4</td>\n",
       "      <td>3600</td>\n",
       "      <td>Uttara</td>\n",
       "      <td>80000</td>\n",
       "    </tr>\n",
       "    <tr>\n",
       "      <th>7553</th>\n",
       "      <td>3</td>\n",
       "      <td>2</td>\n",
       "      <td>900</td>\n",
       "      <td>Uttara</td>\n",
       "      <td>19000</td>\n",
       "    </tr>\n",
       "    <tr>\n",
       "      <th>7554</th>\n",
       "      <td>2</td>\n",
       "      <td>2</td>\n",
       "      <td>1000</td>\n",
       "      <td>Uttara</td>\n",
       "      <td>22000</td>\n",
       "    </tr>\n",
       "    <tr>\n",
       "      <th>7555</th>\n",
       "      <td>3</td>\n",
       "      <td>4</td>\n",
       "      <td>3600</td>\n",
       "      <td>Gulshan</td>\n",
       "      <td>175000</td>\n",
       "    </tr>\n",
       "    <tr>\n",
       "      <th>7556</th>\n",
       "      <td>4</td>\n",
       "      <td>4</td>\n",
       "      <td>2600</td>\n",
       "      <td>Baridhara DOHS</td>\n",
       "      <td>90000</td>\n",
       "    </tr>\n",
       "  </tbody>\n",
       "</table>\n",
       "<p>5332 rows × 5 columns</p>\n",
       "</div>"
      ],
      "text/plain": [
       "      beds  bath  area     neighborhood   price\n",
       "0        3     4  2200  Bashundhara R-A   50000\n",
       "2        3     4  1950  Bashundhara R-A   30000\n",
       "3        3     3  2000           Uttara   35000\n",
       "4        3     4  1650  Bashundhara R-A   25000\n",
       "5        5     5  3400          Gulshan  110000\n",
       "...    ...   ...   ...              ...     ...\n",
       "7552     4     4  3600           Uttara   80000\n",
       "7553     3     2   900           Uttara   19000\n",
       "7554     2     2  1000           Uttara   22000\n",
       "7555     3     4  3600          Gulshan  175000\n",
       "7556     4     4  2600   Baridhara DOHS   90000\n",
       "\n",
       "[5332 rows x 5 columns]"
      ]
     },
     "execution_count": 11,
     "metadata": {},
     "output_type": "execute_result"
    }
   ],
   "source": [
    "top_areas = df_cleaned['neighborhood'].value_counts().nlargest(30).index\n",
    "df_cleaned['neighborhood'] = df_cleaned['neighborhood'].apply(lambda x: x if x in top_areas else 'Other')\n",
    "df_cleaned"
   ]
  },
  {
   "cell_type": "code",
   "execution_count": null,
   "id": "45c2f5e5",
   "metadata": {},
   "outputs": [
    {
     "ename": "KeyError",
     "evalue": "\"None of [Index(['neighborhood'], dtype='object')] are in the [columns]\"",
     "output_type": "error",
     "traceback": [
      "\u001b[1;31m---------------------------------------------------------------------------\u001b[0m",
      "\u001b[1;31mKeyError\u001b[0m                                  Traceback (most recent call last)",
      "Cell \u001b[1;32mIn[18], line 1\u001b[0m\n\u001b[1;32m----> 1\u001b[0m df_cleaned \u001b[38;5;241m=\u001b[39m pd\u001b[38;5;241m.\u001b[39mget_dummies(df_cleaned, columns\u001b[38;5;241m=\u001b[39m[\u001b[38;5;124m'\u001b[39m\u001b[38;5;124mneighborhood\u001b[39m\u001b[38;5;124m'\u001b[39m], drop_first\u001b[38;5;241m=\u001b[39m\u001b[38;5;28;01mTrue\u001b[39;00m)\n\u001b[0;32m      2\u001b[0m df_cleaned\u001b[38;5;241m.\u001b[39mcolumns\n",
      "File \u001b[1;32mc:\\Users\\mdmurahm\\AppData\\Local\\anaconda3\\envs\\py31107_test\\Lib\\site-packages\\pandas\\core\\reshape\\encoding.py:158\u001b[0m, in \u001b[0;36mget_dummies\u001b[1;34m(data, prefix, prefix_sep, dummy_na, columns, sparse, drop_first, dtype)\u001b[0m\n\u001b[0;32m    156\u001b[0m     \u001b[38;5;28;01mraise\u001b[39;00m \u001b[38;5;167;01mTypeError\u001b[39;00m(\u001b[38;5;124m\"\u001b[39m\u001b[38;5;124mInput must be a list-like for parameter `columns`\u001b[39m\u001b[38;5;124m\"\u001b[39m)\n\u001b[0;32m    157\u001b[0m \u001b[38;5;28;01melse\u001b[39;00m:\n\u001b[1;32m--> 158\u001b[0m     data_to_encode \u001b[38;5;241m=\u001b[39m data[columns]\n\u001b[0;32m    160\u001b[0m \u001b[38;5;66;03m# validate prefixes and separator to avoid silently dropping cols\u001b[39;00m\n\u001b[0;32m    161\u001b[0m \u001b[38;5;28;01mdef\u001b[39;00m \u001b[38;5;21mcheck_len\u001b[39m(item, name):\n",
      "File \u001b[1;32mc:\\Users\\mdmurahm\\AppData\\Local\\anaconda3\\envs\\py31107_test\\Lib\\site-packages\\pandas\\core\\frame.py:3767\u001b[0m, in \u001b[0;36mDataFrame.__getitem__\u001b[1;34m(self, key)\u001b[0m\n\u001b[0;32m   3765\u001b[0m     \u001b[38;5;28;01mif\u001b[39;00m is_iterator(key):\n\u001b[0;32m   3766\u001b[0m         key \u001b[38;5;241m=\u001b[39m \u001b[38;5;28mlist\u001b[39m(key)\n\u001b[1;32m-> 3767\u001b[0m     indexer \u001b[38;5;241m=\u001b[39m \u001b[38;5;28mself\u001b[39m\u001b[38;5;241m.\u001b[39mcolumns\u001b[38;5;241m.\u001b[39m_get_indexer_strict(key, \u001b[38;5;124m\"\u001b[39m\u001b[38;5;124mcolumns\u001b[39m\u001b[38;5;124m\"\u001b[39m)[\u001b[38;5;241m1\u001b[39m]\n\u001b[0;32m   3769\u001b[0m \u001b[38;5;66;03m# take() does not accept boolean indexers\u001b[39;00m\n\u001b[0;32m   3770\u001b[0m \u001b[38;5;28;01mif\u001b[39;00m \u001b[38;5;28mgetattr\u001b[39m(indexer, \u001b[38;5;124m\"\u001b[39m\u001b[38;5;124mdtype\u001b[39m\u001b[38;5;124m\"\u001b[39m, \u001b[38;5;28;01mNone\u001b[39;00m) \u001b[38;5;241m==\u001b[39m \u001b[38;5;28mbool\u001b[39m:\n",
      "File \u001b[1;32mc:\\Users\\mdmurahm\\AppData\\Local\\anaconda3\\envs\\py31107_test\\Lib\\site-packages\\pandas\\core\\indexes\\base.py:5877\u001b[0m, in \u001b[0;36mIndex._get_indexer_strict\u001b[1;34m(self, key, axis_name)\u001b[0m\n\u001b[0;32m   5874\u001b[0m \u001b[38;5;28;01melse\u001b[39;00m:\n\u001b[0;32m   5875\u001b[0m     keyarr, indexer, new_indexer \u001b[38;5;241m=\u001b[39m \u001b[38;5;28mself\u001b[39m\u001b[38;5;241m.\u001b[39m_reindex_non_unique(keyarr)\n\u001b[1;32m-> 5877\u001b[0m \u001b[38;5;28mself\u001b[39m\u001b[38;5;241m.\u001b[39m_raise_if_missing(keyarr, indexer, axis_name)\n\u001b[0;32m   5879\u001b[0m keyarr \u001b[38;5;241m=\u001b[39m \u001b[38;5;28mself\u001b[39m\u001b[38;5;241m.\u001b[39mtake(indexer)\n\u001b[0;32m   5880\u001b[0m \u001b[38;5;28;01mif\u001b[39;00m \u001b[38;5;28misinstance\u001b[39m(key, Index):\n\u001b[0;32m   5881\u001b[0m     \u001b[38;5;66;03m# GH 42790 - Preserve name from an Index\u001b[39;00m\n",
      "File \u001b[1;32mc:\\Users\\mdmurahm\\AppData\\Local\\anaconda3\\envs\\py31107_test\\Lib\\site-packages\\pandas\\core\\indexes\\base.py:5938\u001b[0m, in \u001b[0;36mIndex._raise_if_missing\u001b[1;34m(self, key, indexer, axis_name)\u001b[0m\n\u001b[0;32m   5936\u001b[0m     \u001b[38;5;28;01mif\u001b[39;00m use_interval_msg:\n\u001b[0;32m   5937\u001b[0m         key \u001b[38;5;241m=\u001b[39m \u001b[38;5;28mlist\u001b[39m(key)\n\u001b[1;32m-> 5938\u001b[0m     \u001b[38;5;28;01mraise\u001b[39;00m \u001b[38;5;167;01mKeyError\u001b[39;00m(\u001b[38;5;124mf\u001b[39m\u001b[38;5;124m\"\u001b[39m\u001b[38;5;124mNone of [\u001b[39m\u001b[38;5;132;01m{\u001b[39;00mkey\u001b[38;5;132;01m}\u001b[39;00m\u001b[38;5;124m] are in the [\u001b[39m\u001b[38;5;132;01m{\u001b[39;00maxis_name\u001b[38;5;132;01m}\u001b[39;00m\u001b[38;5;124m]\u001b[39m\u001b[38;5;124m\"\u001b[39m)\n\u001b[0;32m   5940\u001b[0m not_found \u001b[38;5;241m=\u001b[39m \u001b[38;5;28mlist\u001b[39m(ensure_index(key)[missing_mask\u001b[38;5;241m.\u001b[39mnonzero()[\u001b[38;5;241m0\u001b[39m]]\u001b[38;5;241m.\u001b[39munique())\n\u001b[0;32m   5941\u001b[0m \u001b[38;5;28;01mraise\u001b[39;00m \u001b[38;5;167;01mKeyError\u001b[39;00m(\u001b[38;5;124mf\u001b[39m\u001b[38;5;124m\"\u001b[39m\u001b[38;5;132;01m{\u001b[39;00mnot_found\u001b[38;5;132;01m}\u001b[39;00m\u001b[38;5;124m not in index\u001b[39m\u001b[38;5;124m\"\u001b[39m)\n",
      "\u001b[1;31mKeyError\u001b[0m: \"None of [Index(['neighborhood'], dtype='object')] are in the [columns]\""
     ]
    }
   ],
   "source": [
    "df_cleaned = pd.get_dummies(df_cleaned, columns=['neighborhood'], drop_first=True)\n",
    "df_cleaned"
   ]
  },
  {
   "cell_type": "code",
   "execution_count": 13,
   "id": "62c48fea",
   "metadata": {},
   "outputs": [],
   "source": [
    "from sklearn.model_selection import train_test_split\n",
    "\n",
    "X = df_cleaned[['beds', 'bath', 'area'] + [col for col in df_cleaned.columns if col.startswith('neighborhood_')]]\n",
    "y = df_cleaned['price']\n",
    "\n",
    "X_train, X_test, y_train, y_test = train_test_split(X, y, test_size=0.2, random_state=42)"
   ]
  },
  {
   "cell_type": "code",
   "execution_count": 14,
   "id": "95683c8e",
   "metadata": {},
   "outputs": [
    {
     "name": "stdout",
     "output_type": "stream",
     "text": [
      "Mean Squared Error: 1309302947.0578017\n",
      "R-squared: 0.8806842143791195\n"
     ]
    }
   ],
   "source": [
    "from sklearn.linear_model import LinearRegression\n",
    "\n",
    "model = LinearRegression()\n",
    "model.fit(X_train, y_train)\n",
    "y_pred = model.predict(X_test)\n",
    "\n",
    "from sklearn.metrics import mean_squared_error, r2_score\n",
    "mse = mean_squared_error(y_test, y_pred)\n",
    "r2 = r2_score(y_test, y_pred)\n",
    "print(f'Mean Squared Error: {mse}')\n",
    "print(f'R-squared: {r2}')"
   ]
  },
  {
   "cell_type": "code",
   "execution_count": 15,
   "id": "e224efdd",
   "metadata": {},
   "outputs": [
    {
     "data": {
      "image/png": "[encoded data removed]",
      "text/plain": [
       "<Figure size 640x480 with 1 Axes>"
      ]
     },
     "metadata": {},
     "output_type": "display_data"
    }
   ],
   "source": [
    "import matplotlib.pyplot as plt\n",
    "import seaborn as sns\n",
    "\n",
    "residuals = y_test - y_pred\n",
    "sns.histplot(residuals, kde=True)\n",
    "plt.title(\"Residual Distribution\")\n",
    "plt.xlabel(\"Error\")\n",
    "plt.ylabel(\"Frequency\")\n",
    "plt.show()\n"
   ]
  },
  {
   "cell_type": "code",
   "execution_count": 16,
   "id": "4c4249ed",
   "metadata": {},
   "outputs": [
    {
     "data": {
      "text/plain": [
       "['house_price_model.pkl']"
      ]
     },
     "execution_count": 16,
     "metadata": {},
     "output_type": "execute_result"
    }
   ],
   "source": [
    "import joblib\n",
    "\n",
    "# Save model\n",
    "joblib.dump(model, \"house_price_model.pkl\")\n"
   ]
  },
  {
   "cell_type": "code",
   "execution_count": 22,
   "id": "ebbe7629",
   "metadata": {},
   "outputs": [
    {
     "data": {
      "text/plain": [
       "Index(['beds', 'bath', 'area', 'price', 'Aftab Nagar', 'Agargaon', 'Badda',\n",
       "       'Banani', 'Banasree', 'Baridhara', 'Baridhara DOHS', 'Bashundhara R-A',\n",
       "       'Cantonment', 'Dakshin Khan', 'Dhanmondi', 'Eskaton', 'Gulshan',\n",
       "       'Hazaribag', 'Ibrahimpur', 'Khilgaon', 'Khilkhet', 'Lalbagh',\n",
       "       'Maghbazar', 'Mirpur', 'Mohammadpur', 'Motijheel', 'Nikunja', 'Other',\n",
       "       'Rampura', 'Shyamoli', 'Tejgaon', 'Turag', 'Uttar Khan', 'Uttara'],\n",
       "      dtype='object')"
      ]
     },
     "execution_count": 22,
     "metadata": {},
     "output_type": "execute_result"
    }
   ],
   "source": [
    "loc_list = df_cleaned.columns.map(lambda x: x.replace(\"neighborhood_\", \"\"))\n",
    "loc_list"
   ]
  }
 ],
 "metadata": {
  "kernelspec": {
   "display_name": "py31107_test",
   "language": "python",
   "name": "python3"
  },
  "language_info": {
   "codemirror_mode": {
    "name": "ipython",
    "version": 3
   },
   "file_extension": ".py",
   "mimetype": "text/x-python",
   "name": "python",
   "nbconvert_exporter": "python",
   "pygments_lexer": "ipython3",
   "version": "3.11.7"
  }
 },
 "nbformat": 4,
 "nbformat_minor": 5
}
